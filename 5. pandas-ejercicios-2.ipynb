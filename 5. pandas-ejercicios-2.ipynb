{
 "cells": [
  {
   "cell_type": "markdown",
   "metadata": {
    "id": "z80_I7FyUkjc"
   },
   "source": [
    "### Ejercicio 2 de pandas"
   ]
  },
  {
   "cell_type": "code",
   "execution_count": 1,
   "metadata": {
    "colab": {
     "base_uri": "https://localhost:8080/"
    },
    "executionInfo": {
     "elapsed": 1712,
     "status": "ok",
     "timestamp": 1676250676705,
     "user": {
      "displayName": "ALEJANDRO NATHANAEL MARTIN DEL CAMPO BARBA",
      "userId": "13017245119275679287"
     },
     "user_tz": 360
    },
    "id": "UDlPJgxLUkjf",
    "outputId": "fce470ba-d892-4150-ad51-78cc4f8943ce"
   },
   "outputs": [
    {
     "name": "stdout",
     "output_type": "stream",
     "text": [
      "Populating the interactive namespace from numpy and matplotlib\n"
     ]
    }
   ],
   "source": [
    "%pylab inline\n",
    "import pandas as pd\n"
   ]
  },
  {
   "cell_type": "code",
   "execution_count": 2,
   "metadata": {
    "colab": {
     "base_uri": "https://localhost:8080/",
     "height": 206
    },
    "executionInfo": {
     "elapsed": 24601,
     "status": "ok",
     "timestamp": 1676251473166,
     "user": {
      "displayName": "ALEJANDRO NATHANAEL MARTIN DEL CAMPO BARBA",
      "userId": "13017245119275679287"
     },
     "user_tz": 360
    },
    "id": "LtRk5-W4Ukjg",
    "outputId": "ae3fadb3-b5bb-48c0-c7a4-cb5fb2e99099"
   },
   "outputs": [
    {
     "data": {
      "text/html": [
       "<div>\n",
       "<style scoped>\n",
       "    .dataframe tbody tr th:only-of-type {\n",
       "        vertical-align: middle;\n",
       "    }\n",
       "\n",
       "    .dataframe tbody tr th {\n",
       "        vertical-align: top;\n",
       "    }\n",
       "\n",
       "    .dataframe thead th {\n",
       "        text-align: right;\n",
       "    }\n",
       "</style>\n",
       "<table border=\"1\" class=\"dataframe\">\n",
       "  <thead>\n",
       "    <tr style=\"text-align: right;\">\n",
       "      <th></th>\n",
       "      <th>title</th>\n",
       "      <th>year</th>\n",
       "      <th>name</th>\n",
       "      <th>type</th>\n",
       "      <th>character</th>\n",
       "      <th>n</th>\n",
       "    </tr>\n",
       "  </thead>\n",
       "  <tbody>\n",
       "    <tr>\n",
       "      <th>0</th>\n",
       "      <td>Closet Monster</td>\n",
       "      <td>2015</td>\n",
       "      <td>Buffy #1</td>\n",
       "      <td>actor</td>\n",
       "      <td>Buffy 4</td>\n",
       "      <td>31.0</td>\n",
       "    </tr>\n",
       "    <tr>\n",
       "      <th>1</th>\n",
       "      <td>Suuri illusioni</td>\n",
       "      <td>1985</td>\n",
       "      <td>Homo $</td>\n",
       "      <td>actor</td>\n",
       "      <td>Guests</td>\n",
       "      <td>22.0</td>\n",
       "    </tr>\n",
       "    <tr>\n",
       "      <th>2</th>\n",
       "      <td>Battle of the Sexes</td>\n",
       "      <td>2017</td>\n",
       "      <td>$hutter</td>\n",
       "      <td>actor</td>\n",
       "      <td>Bobby Riggs Fan</td>\n",
       "      <td>10.0</td>\n",
       "    </tr>\n",
       "    <tr>\n",
       "      <th>3</th>\n",
       "      <td>Secret in Their Eyes</td>\n",
       "      <td>2015</td>\n",
       "      <td>$hutter</td>\n",
       "      <td>actor</td>\n",
       "      <td>2002 Dodger Fan</td>\n",
       "      <td>NaN</td>\n",
       "    </tr>\n",
       "    <tr>\n",
       "      <th>4</th>\n",
       "      <td>Steve Jobs</td>\n",
       "      <td>2015</td>\n",
       "      <td>$hutter</td>\n",
       "      <td>actor</td>\n",
       "      <td>1988 Opera House Patron</td>\n",
       "      <td>NaN</td>\n",
       "    </tr>\n",
       "  </tbody>\n",
       "</table>\n",
       "</div>"
      ],
      "text/plain": [
       "                  title  year      name   type                character     n\n",
       "0        Closet Monster  2015  Buffy #1  actor                  Buffy 4  31.0\n",
       "1       Suuri illusioni  1985    Homo $  actor                   Guests  22.0\n",
       "2   Battle of the Sexes  2017   $hutter  actor          Bobby Riggs Fan  10.0\n",
       "3  Secret in Their Eyes  2015   $hutter  actor          2002 Dodger Fan   NaN\n",
       "4            Steve Jobs  2015   $hutter  actor  1988 Opera House Patron   NaN"
      ]
     },
     "execution_count": 2,
     "metadata": {},
     "output_type": "execute_result"
    }
   ],
   "source": [
    "elenco = pd.read_csv('https://public-access-s3.s3.amazonaws.com/cast.csv', encoding='utf-8')\n",
    "elenco.head()"
   ]
  },
  {
   "cell_type": "code",
   "execution_count": 3,
   "metadata": {
    "colab": {
     "base_uri": "https://localhost:8080/"
    },
    "executionInfo": {
     "elapsed": 126,
     "status": "ok",
     "timestamp": 1676251475198,
     "user": {
      "displayName": "ALEJANDRO NATHANAEL MARTIN DEL CAMPO BARBA",
      "userId": "13017245119275679287"
     },
     "user_tz": 360
    },
    "id": "q-LDtFlnUkjg",
    "outputId": "f37a968d-0228-4077-cace-f0c194097a5f"
   },
   "outputs": [
    {
     "data": {
      "text/plain": [
       "3564650"
      ]
     },
     "execution_count": 3,
     "metadata": {},
     "output_type": "execute_result"
    }
   ],
   "source": [
    "# se simplifica el nombre\n",
    "e = elenco\n",
    "len(e)"
   ]
  },
  {
   "cell_type": "code",
   "execution_count": 9,
   "metadata": {
    "colab": {
     "base_uri": "https://localhost:8080/",
     "height": 241
    },
    "executionInfo": {
     "elapsed": 203,
     "status": "ok",
     "timestamp": 1676251509859,
     "user": {
      "displayName": "ALEJANDRO NATHANAEL MARTIN DEL CAMPO BARBA",
      "userId": "13017245119275679287"
     },
     "user_tz": 360
    },
    "id": "yhM0C90LUkjh",
    "outputId": "269a5f51-adc1-4b36-e336-93c41fcb14ca"
   },
   "outputs": [
    {
     "name": "stdout",
     "output_type": "stream",
     "text": [
      "Wall time: 0 ns\n"
     ]
    },
    {
     "data": {
      "text/html": [
       "<div>\n",
       "<style scoped>\n",
       "    .dataframe tbody tr th:only-of-type {\n",
       "        vertical-align: middle;\n",
       "    }\n",
       "\n",
       "    .dataframe tbody tr th {\n",
       "        vertical-align: top;\n",
       "    }\n",
       "\n",
       "    .dataframe thead th {\n",
       "        text-align: right;\n",
       "    }\n",
       "</style>\n",
       "<table border=\"1\" class=\"dataframe\">\n",
       "  <thead>\n",
       "    <tr style=\"text-align: right;\">\n",
       "      <th></th>\n",
       "      <th>title</th>\n",
       "      <th>year</th>\n",
       "      <th>name</th>\n",
       "      <th>type</th>\n",
       "      <th>character</th>\n",
       "      <th>n</th>\n",
       "    </tr>\n",
       "  </thead>\n",
       "  <tbody>\n",
       "    <tr>\n",
       "      <th>3</th>\n",
       "      <td>Secret in Their Eyes</td>\n",
       "      <td>2015</td>\n",
       "      <td>$hutter</td>\n",
       "      <td>actor</td>\n",
       "      <td>2002 Dodger Fan</td>\n",
       "      <td>NaN</td>\n",
       "    </tr>\n",
       "    <tr>\n",
       "      <th>423075</th>\n",
       "      <td>Secret in Their Eyes</td>\n",
       "      <td>2015</td>\n",
       "      <td>Joe (VII) Cole</td>\n",
       "      <td>actor</td>\n",
       "      <td>Marzin</td>\n",
       "      <td>6.0</td>\n",
       "    </tr>\n",
       "    <tr>\n",
       "      <th>423076</th>\n",
       "      <td>Secret in Their Eyes</td>\n",
       "      <td>2015</td>\n",
       "      <td>Joe (VII) Cole</td>\n",
       "      <td>actor</td>\n",
       "      <td>Beckwith</td>\n",
       "      <td>6.0</td>\n",
       "    </tr>\n",
       "    <tr>\n",
       "      <th>481631</th>\n",
       "      <td>Secret in Their Eyes</td>\n",
       "      <td>2015</td>\n",
       "      <td>Alessandro Cuomo</td>\n",
       "      <td>actor</td>\n",
       "      <td>Anthony</td>\n",
       "      <td>NaN</td>\n",
       "    </tr>\n",
       "    <tr>\n",
       "      <th>512444</th>\n",
       "      <td>Secret in Their Eyes</td>\n",
       "      <td>2015</td>\n",
       "      <td>Glenn (IV) Davis</td>\n",
       "      <td>actor</td>\n",
       "      <td>Stadium Cop</td>\n",
       "      <td>19.0</td>\n",
       "    </tr>\n",
       "  </tbody>\n",
       "</table>\n",
       "</div>"
      ],
      "text/plain": [
       "                       title  year              name   type        character  \\\n",
       "3       Secret in Their Eyes  2015           $hutter  actor  2002 Dodger Fan   \n",
       "423075  Secret in Their Eyes  2015    Joe (VII) Cole  actor           Marzin   \n",
       "423076  Secret in Their Eyes  2015    Joe (VII) Cole  actor         Beckwith   \n",
       "481631  Secret in Their Eyes  2015  Alessandro Cuomo  actor          Anthony   \n",
       "512444  Secret in Their Eyes  2015  Glenn (IV) Davis  actor      Stadium Cop   \n",
       "\n",
       "           n  \n",
       "3        NaN  \n",
       "423075   6.0  \n",
       "423076   6.0  \n",
       "481631   NaN  \n",
       "512444  19.0  "
      ]
     },
     "execution_count": 9,
     "metadata": {},
     "output_type": "execute_result"
    }
   ],
   "source": [
    "# Se usa el %% time para ver el tiempo de ejecución\n",
    "%time\n",
    "e[e.title == 'Secret in Their Eyes'].head()"
   ]
  },
  {
   "cell_type": "code",
   "execution_count": 6,
   "metadata": {
    "executionInfo": {
     "elapsed": 499,
     "status": "ok",
     "timestamp": 1676251518241,
     "user": {
      "displayName": "ALEJANDRO NATHANAEL MARTIN DEL CAMPO BARBA",
      "userId": "13017245119275679287"
     },
     "user_tz": 360
    },
    "id": "k1qqDnacUkjh"
   },
   "outputs": [],
   "source": [
    "# Indexamos por el titulo\n",
    "e_ti = e.set_index('title')"
   ]
  },
  {
   "cell_type": "code",
   "execution_count": 11,
   "metadata": {
    "colab": {
     "base_uri": "https://localhost:8080/",
     "height": 272
    },
    "executionInfo": {
     "elapsed": 164,
     "status": "ok",
     "timestamp": 1676251538553,
     "user": {
      "displayName": "ALEJANDRO NATHANAEL MARTIN DEL CAMPO BARBA",
      "userId": "13017245119275679287"
     },
     "user_tz": 360
    },
    "id": "OfzMT--dUkjh",
    "outputId": "146a5a5e-aeb3-477f-a943-5d5e0c5eba69"
   },
   "outputs": [
    {
     "name": "stdout",
     "output_type": "stream",
     "text": [
      "Wall time: 82.7 ms\n"
     ]
    },
    {
     "data": {
      "text/html": [
       "<div>\n",
       "<style scoped>\n",
       "    .dataframe tbody tr th:only-of-type {\n",
       "        vertical-align: middle;\n",
       "    }\n",
       "\n",
       "    .dataframe tbody tr th {\n",
       "        vertical-align: top;\n",
       "    }\n",
       "\n",
       "    .dataframe thead th {\n",
       "        text-align: right;\n",
       "    }\n",
       "</style>\n",
       "<table border=\"1\" class=\"dataframe\">\n",
       "  <thead>\n",
       "    <tr style=\"text-align: right;\">\n",
       "      <th></th>\n",
       "      <th>year</th>\n",
       "      <th>name</th>\n",
       "      <th>type</th>\n",
       "      <th>character</th>\n",
       "      <th>n</th>\n",
       "    </tr>\n",
       "    <tr>\n",
       "      <th>title</th>\n",
       "      <th></th>\n",
       "      <th></th>\n",
       "      <th></th>\n",
       "      <th></th>\n",
       "      <th></th>\n",
       "    </tr>\n",
       "  </thead>\n",
       "  <tbody>\n",
       "    <tr>\n",
       "      <th>Secret in Their Eyes</th>\n",
       "      <td>2015</td>\n",
       "      <td>$hutter</td>\n",
       "      <td>actor</td>\n",
       "      <td>2002 Dodger Fan</td>\n",
       "      <td>NaN</td>\n",
       "    </tr>\n",
       "    <tr>\n",
       "      <th>Secret in Their Eyes</th>\n",
       "      <td>2015</td>\n",
       "      <td>Joe (VII) Cole</td>\n",
       "      <td>actor</td>\n",
       "      <td>Marzin</td>\n",
       "      <td>6.0</td>\n",
       "    </tr>\n",
       "    <tr>\n",
       "      <th>Secret in Their Eyes</th>\n",
       "      <td>2015</td>\n",
       "      <td>Joe (VII) Cole</td>\n",
       "      <td>actor</td>\n",
       "      <td>Beckwith</td>\n",
       "      <td>6.0</td>\n",
       "    </tr>\n",
       "    <tr>\n",
       "      <th>Secret in Their Eyes</th>\n",
       "      <td>2015</td>\n",
       "      <td>Alessandro Cuomo</td>\n",
       "      <td>actor</td>\n",
       "      <td>Anthony</td>\n",
       "      <td>NaN</td>\n",
       "    </tr>\n",
       "    <tr>\n",
       "      <th>Secret in Their Eyes</th>\n",
       "      <td>2015</td>\n",
       "      <td>Glenn (IV) Davis</td>\n",
       "      <td>actor</td>\n",
       "      <td>Stadium Cop</td>\n",
       "      <td>19.0</td>\n",
       "    </tr>\n",
       "  </tbody>\n",
       "</table>\n",
       "</div>"
      ],
      "text/plain": [
       "                      year              name   type        character     n\n",
       "title                                                                     \n",
       "Secret in Their Eyes  2015           $hutter  actor  2002 Dodger Fan   NaN\n",
       "Secret in Their Eyes  2015    Joe (VII) Cole  actor           Marzin   6.0\n",
       "Secret in Their Eyes  2015    Joe (VII) Cole  actor         Beckwith   6.0\n",
       "Secret in Their Eyes  2015  Alessandro Cuomo  actor          Anthony   NaN\n",
       "Secret in Their Eyes  2015  Glenn (IV) Davis  actor      Stadium Cop  19.0"
      ]
     },
     "execution_count": 11,
     "metadata": {},
     "output_type": "execute_result"
    }
   ],
   "source": [
    "%%time\n",
    "e_ti.loc[\"Secret in Their Eyes\"].head()"
   ]
  },
  {
   "cell_type": "code",
   "execution_count": 23,
   "metadata": {
    "colab": {
     "base_uri": "https://localhost:8080/",
     "height": 238
    },
    "executionInfo": {
     "elapsed": 20885,
     "status": "ok",
     "timestamp": 1676251594191,
     "user": {
      "displayName": "ALEJANDRO NATHANAEL MARTIN DEL CAMPO BARBA",
      "userId": "13017245119275679287"
     },
     "user_tz": 360
    },
    "id": "TO5dLOB6Ukjh",
    "outputId": "0e456146-96a9-42d3-c67e-fe3d66e088b0"
   },
   "outputs": [
    {
     "data": {
      "text/html": [
       "<div>\n",
       "<style scoped>\n",
       "    .dataframe tbody tr th:only-of-type {\n",
       "        vertical-align: middle;\n",
       "    }\n",
       "\n",
       "    .dataframe tbody tr th {\n",
       "        vertical-align: top;\n",
       "    }\n",
       "\n",
       "    .dataframe thead th {\n",
       "        text-align: right;\n",
       "    }\n",
       "</style>\n",
       "<table border=\"1\" class=\"dataframe\">\n",
       "  <thead>\n",
       "    <tr style=\"text-align: right;\">\n",
       "      <th></th>\n",
       "      <th>year</th>\n",
       "      <th>name</th>\n",
       "      <th>type</th>\n",
       "      <th>character</th>\n",
       "      <th>n</th>\n",
       "    </tr>\n",
       "    <tr>\n",
       "      <th>title</th>\n",
       "      <th></th>\n",
       "      <th></th>\n",
       "      <th></th>\n",
       "      <th></th>\n",
       "      <th></th>\n",
       "    </tr>\n",
       "  </thead>\n",
       "  <tbody>\n",
       "    <tr>\n",
       "      <th>#1 Serial Killer</th>\n",
       "      <td>2013</td>\n",
       "      <td>Matthias Chrans</td>\n",
       "      <td>actor</td>\n",
       "      <td>Brian Bennett</td>\n",
       "      <td>13.0</td>\n",
       "    </tr>\n",
       "    <tr>\n",
       "      <th>#1 Serial Killer</th>\n",
       "      <td>2013</td>\n",
       "      <td>Yvis Cannavale</td>\n",
       "      <td>actor</td>\n",
       "      <td>Homeless Man</td>\n",
       "      <td>25.0</td>\n",
       "    </tr>\n",
       "    <tr>\n",
       "      <th>#1 Serial Killer</th>\n",
       "      <td>2013</td>\n",
       "      <td>Jesse Wang</td>\n",
       "      <td>actor</td>\n",
       "      <td>Mr. Tsai</td>\n",
       "      <td>11.0</td>\n",
       "    </tr>\n",
       "    <tr>\n",
       "      <th>#1 Serial Killer</th>\n",
       "      <td>2013</td>\n",
       "      <td>Shoshana Bush</td>\n",
       "      <td>actress</td>\n",
       "      <td>Tricia Arnold</td>\n",
       "      <td>4.0</td>\n",
       "    </tr>\n",
       "    <tr>\n",
       "      <th>#1 Serial Killer</th>\n",
       "      <td>2013</td>\n",
       "      <td>Tiley Chao</td>\n",
       "      <td>actress</td>\n",
       "      <td>Mrs. Chang</td>\n",
       "      <td>12.0</td>\n",
       "    </tr>\n",
       "  </tbody>\n",
       "</table>\n",
       "</div>"
      ],
      "text/plain": [
       "                  year             name     type      character     n\n",
       "title                                                                \n",
       "#1 Serial Killer  2013  Matthias Chrans    actor  Brian Bennett  13.0\n",
       "#1 Serial Killer  2013   Yvis Cannavale    actor   Homeless Man  25.0\n",
       "#1 Serial Killer  2013       Jesse Wang    actor       Mr. Tsai  11.0\n",
       "#1 Serial Killer  2013    Shoshana Bush  actress  Tricia Arnold   4.0\n",
       "#1 Serial Killer  2013       Tiley Chao  actress     Mrs. Chang  12.0"
      ]
     },
     "execution_count": 23,
     "metadata": {},
     "output_type": "execute_result"
    }
   ],
   "source": [
    "# Veamos si el indice sirve cuando se ordena\n",
    "e_ti = e.set_index('title').sort_index()\n",
    "e_ti.head()"
   ]
  },
  {
   "cell_type": "code",
   "execution_count": 20,
   "metadata": {
    "colab": {
     "base_uri": "https://localhost:8080/",
     "height": 272
    },
    "executionInfo": {
     "elapsed": 1451,
     "status": "ok",
     "timestamp": 1676251597433,
     "user": {
      "displayName": "ALEJANDRO NATHANAEL MARTIN DEL CAMPO BARBA",
      "userId": "13017245119275679287"
     },
     "user_tz": 360
    },
    "id": "wY6Sb1WUUkji",
    "outputId": "f98c9333-3446-4913-b350-ddfec6ac56ce"
   },
   "outputs": [
    {
     "name": "stdout",
     "output_type": "stream",
     "text": [
      "Wall time: 0 ns\n"
     ]
    },
    {
     "data": {
      "text/html": [
       "<div>\n",
       "<style scoped>\n",
       "    .dataframe tbody tr th:only-of-type {\n",
       "        vertical-align: middle;\n",
       "    }\n",
       "\n",
       "    .dataframe tbody tr th {\n",
       "        vertical-align: top;\n",
       "    }\n",
       "\n",
       "    .dataframe thead th {\n",
       "        text-align: right;\n",
       "    }\n",
       "</style>\n",
       "<table border=\"1\" class=\"dataframe\">\n",
       "  <thead>\n",
       "    <tr style=\"text-align: right;\">\n",
       "      <th></th>\n",
       "      <th>name</th>\n",
       "      <th>type</th>\n",
       "      <th>character</th>\n",
       "      <th>n</th>\n",
       "    </tr>\n",
       "    <tr>\n",
       "      <th>year</th>\n",
       "      <th></th>\n",
       "      <th></th>\n",
       "      <th></th>\n",
       "      <th></th>\n",
       "    </tr>\n",
       "  </thead>\n",
       "  <tbody>\n",
       "    <tr>\n",
       "      <th>2015</th>\n",
       "      <td>$hutter</td>\n",
       "      <td>actor</td>\n",
       "      <td>2002 Dodger Fan</td>\n",
       "      <td>NaN</td>\n",
       "    </tr>\n",
       "    <tr>\n",
       "      <th>2015</th>\n",
       "      <td>Joe (VII) Cole</td>\n",
       "      <td>actor</td>\n",
       "      <td>Marzin</td>\n",
       "      <td>6.0</td>\n",
       "    </tr>\n",
       "    <tr>\n",
       "      <th>2015</th>\n",
       "      <td>Joe (VII) Cole</td>\n",
       "      <td>actor</td>\n",
       "      <td>Beckwith</td>\n",
       "      <td>6.0</td>\n",
       "    </tr>\n",
       "    <tr>\n",
       "      <th>2015</th>\n",
       "      <td>Alessandro Cuomo</td>\n",
       "      <td>actor</td>\n",
       "      <td>Anthony</td>\n",
       "      <td>NaN</td>\n",
       "    </tr>\n",
       "    <tr>\n",
       "      <th>2015</th>\n",
       "      <td>Glenn (IV) Davis</td>\n",
       "      <td>actor</td>\n",
       "      <td>Stadium Cop</td>\n",
       "      <td>19.0</td>\n",
       "    </tr>\n",
       "  </tbody>\n",
       "</table>\n",
       "</div>"
      ],
      "text/plain": [
       "                  name   type        character     n\n",
       "year                                                \n",
       "2015           $hutter  actor  2002 Dodger Fan   NaN\n",
       "2015    Joe (VII) Cole  actor           Marzin   6.0\n",
       "2015    Joe (VII) Cole  actor         Beckwith   6.0\n",
       "2015  Alessandro Cuomo  actor          Anthony   NaN\n",
       "2015  Glenn (IV) Davis  actor      Stadium Cop  19.0"
      ]
     },
     "execution_count": 20,
     "metadata": {},
     "output_type": "execute_result"
    }
   ],
   "source": [
    "%time\n",
    "e_ti.loc[\"Secret in Their Eyes\"].head()"
   ]
  },
  {
   "cell_type": "code",
   "execution_count": 24,
   "metadata": {
    "colab": {
     "base_uri": "https://localhost:8080/",
     "height": 238
    },
    "executionInfo": {
     "elapsed": 7703,
     "status": "ok",
     "timestamp": 1676251635124,
     "user": {
      "displayName": "ALEJANDRO NATHANAEL MARTIN DEL CAMPO BARBA",
      "userId": "13017245119275679287"
     },
     "user_tz": 360
    },
    "id": "1ZDx0SJsUkji",
    "outputId": "10cb6816-f380-4214-f788-8d7e0de9fb41"
   },
   "outputs": [
    {
     "name": "stdout",
     "output_type": "stream",
     "text": [
      "Wall time: 0 ns\n"
     ]
    },
    {
     "data": {
      "text/html": [
       "<div>\n",
       "<style scoped>\n",
       "    .dataframe tbody tr th:only-of-type {\n",
       "        vertical-align: middle;\n",
       "    }\n",
       "\n",
       "    .dataframe tbody tr th {\n",
       "        vertical-align: top;\n",
       "    }\n",
       "\n",
       "    .dataframe thead th {\n",
       "        text-align: right;\n",
       "    }\n",
       "</style>\n",
       "<table border=\"1\" class=\"dataframe\">\n",
       "  <thead>\n",
       "    <tr style=\"text-align: right;\">\n",
       "      <th></th>\n",
       "      <th></th>\n",
       "      <th>name</th>\n",
       "      <th>type</th>\n",
       "      <th>character</th>\n",
       "      <th>n</th>\n",
       "    </tr>\n",
       "    <tr>\n",
       "      <th>title</th>\n",
       "      <th>year</th>\n",
       "      <th></th>\n",
       "      <th></th>\n",
       "      <th></th>\n",
       "      <th></th>\n",
       "    </tr>\n",
       "  </thead>\n",
       "  <tbody>\n",
       "    <tr>\n",
       "      <th rowspan=\"5\" valign=\"top\">#1 Serial Killer</th>\n",
       "      <th>2013</th>\n",
       "      <td>Michael Alton</td>\n",
       "      <td>actor</td>\n",
       "      <td>Detective Roberts</td>\n",
       "      <td>17.0</td>\n",
       "    </tr>\n",
       "    <tr>\n",
       "      <th>2013</th>\n",
       "      <td>Aaron Aoki</td>\n",
       "      <td>actor</td>\n",
       "      <td>Plastic Bag Victim</td>\n",
       "      <td>21.0</td>\n",
       "    </tr>\n",
       "    <tr>\n",
       "      <th>2013</th>\n",
       "      <td>Zachary (X) Brown</td>\n",
       "      <td>actor</td>\n",
       "      <td>Africian American Teen</td>\n",
       "      <td>18.0</td>\n",
       "    </tr>\n",
       "    <tr>\n",
       "      <th>2013</th>\n",
       "      <td>Yvis Cannavale</td>\n",
       "      <td>actor</td>\n",
       "      <td>Homeless Man</td>\n",
       "      <td>25.0</td>\n",
       "    </tr>\n",
       "    <tr>\n",
       "      <th>2013</th>\n",
       "      <td>Patrick Chien</td>\n",
       "      <td>actor</td>\n",
       "      <td>Cleaver Victim</td>\n",
       "      <td>22.0</td>\n",
       "    </tr>\n",
       "  </tbody>\n",
       "</table>\n",
       "</div>"
      ],
      "text/plain": [
       "                                    name   type               character     n\n",
       "title            year                                                        \n",
       "#1 Serial Killer 2013      Michael Alton  actor       Detective Roberts  17.0\n",
       "                 2013         Aaron Aoki  actor      Plastic Bag Victim  21.0\n",
       "                 2013  Zachary (X) Brown  actor  Africian American Teen  18.0\n",
       "                 2013     Yvis Cannavale  actor            Homeless Man  25.0\n",
       "                 2013      Patrick Chien  actor          Cleaver Victim  22.0"
      ]
     },
     "execution_count": 24,
     "metadata": {},
     "output_type": "execute_result"
    }
   ],
   "source": [
    "# El indice se puede generar de multiples columnas **Puede tardar más en construirse**\n",
    "\n",
    "%time\n",
    "e_ti = e.set_index(['title','year']).sort_index()\n",
    "e_ti.head()\n"
   ]
  },
  {
   "cell_type": "code",
   "execution_count": 25,
   "metadata": {
    "colab": {
     "base_uri": "https://localhost:8080/"
    },
    "executionInfo": {
     "elapsed": 290,
     "status": "ok",
     "timestamp": 1676251637082,
     "user": {
      "displayName": "ALEJANDRO NATHANAEL MARTIN DEL CAMPO BARBA",
      "userId": "13017245119275679287"
     },
     "user_tz": 360
    },
    "id": "wLV_t3vQUkjj",
    "outputId": "ea1e5c14-d5e7-4447-b7c1-f9c95f896803"
   },
   "outputs": [
    {
     "name": "stdout",
     "output_type": "stream",
     "text": [
      "Wall time: 356 ms\n"
     ]
    }
   ],
   "source": [
    "%%time\n",
    "# Se puede localizar por multiples columnas\n",
    "bat89 = e_ti.loc['Batman',1989].sort_index(ascending=False)"
   ]
  },
  {
   "cell_type": "code",
   "execution_count": 26,
   "metadata": {
    "colab": {
     "base_uri": "https://localhost:8080/"
    },
    "executionInfo": {
     "elapsed": 117,
     "status": "ok",
     "timestamp": 1676251639862,
     "user": {
      "displayName": "ALEJANDRO NATHANAEL MARTIN DEL CAMPO BARBA",
      "userId": "13017245119275679287"
     },
     "user_tz": 360
    },
    "id": "LbEynhfjUkjj",
    "outputId": "f8d2d9e2-7c9c-4466-ccf8-68e8c32722fa"
   },
   "outputs": [
    {
     "data": {
      "text/plain": [
       "FrozenList(['title', 'year'])"
      ]
     },
     "execution_count": 26,
     "metadata": {},
     "output_type": "execute_result"
    }
   ],
   "source": [
    "# Nombre de nuestros indices\n",
    "bat89.index.names"
   ]
  },
  {
   "cell_type": "code",
   "execution_count": 27,
   "metadata": {
    "colab": {
     "base_uri": "https://localhost:8080/",
     "height": 455
    },
    "executionInfo": {
     "elapsed": 387,
     "status": "ok",
     "timestamp": 1676251649282,
     "user": {
      "displayName": "ALEJANDRO NATHANAEL MARTIN DEL CAMPO BARBA",
      "userId": "13017245119275679287"
     },
     "user_tz": 360
    },
    "id": "weu8PNmqUkjj",
    "outputId": "3f64431a-5930-417b-8450-7a3aa1eca4ea"
   },
   "outputs": [
    {
     "data": {
      "text/html": [
       "<div>\n",
       "<style scoped>\n",
       "    .dataframe tbody tr th:only-of-type {\n",
       "        vertical-align: middle;\n",
       "    }\n",
       "\n",
       "    .dataframe tbody tr th {\n",
       "        vertical-align: top;\n",
       "    }\n",
       "\n",
       "    .dataframe thead th {\n",
       "        text-align: right;\n",
       "    }\n",
       "</style>\n",
       "<table border=\"1\" class=\"dataframe\">\n",
       "  <thead>\n",
       "    <tr style=\"text-align: right;\">\n",
       "      <th></th>\n",
       "      <th>year</th>\n",
       "      <th>name</th>\n",
       "      <th>type</th>\n",
       "      <th>character</th>\n",
       "      <th>n</th>\n",
       "    </tr>\n",
       "    <tr>\n",
       "      <th>title</th>\n",
       "      <th></th>\n",
       "      <th></th>\n",
       "      <th></th>\n",
       "      <th></th>\n",
       "      <th></th>\n",
       "    </tr>\n",
       "  </thead>\n",
       "  <tbody>\n",
       "    <tr>\n",
       "      <th>Batman</th>\n",
       "      <td>1989</td>\n",
       "      <td>Del Baker</td>\n",
       "      <td>actor</td>\n",
       "      <td>Napier Hood</td>\n",
       "      <td>31.0</td>\n",
       "    </tr>\n",
       "    <tr>\n",
       "      <th>Batman</th>\n",
       "      <td>1989</td>\n",
       "      <td>Michael Balfour</td>\n",
       "      <td>actor</td>\n",
       "      <td>Scientist</td>\n",
       "      <td>44.0</td>\n",
       "    </tr>\n",
       "    <tr>\n",
       "      <th>Batman</th>\n",
       "      <td>1989</td>\n",
       "      <td>David Baxt</td>\n",
       "      <td>actor</td>\n",
       "      <td>Dr. Thomas Wayne</td>\n",
       "      <td>48.0</td>\n",
       "    </tr>\n",
       "    <tr>\n",
       "      <th>Batman</th>\n",
       "      <td>1989</td>\n",
       "      <td>Paul Birchard</td>\n",
       "      <td>actor</td>\n",
       "      <td>Another Reporter</td>\n",
       "      <td>55.0</td>\n",
       "    </tr>\n",
       "    <tr>\n",
       "      <th>Batman</th>\n",
       "      <td>1989</td>\n",
       "      <td>Hugo Blick</td>\n",
       "      <td>actor</td>\n",
       "      <td>Young Jack Napier</td>\n",
       "      <td>41.0</td>\n",
       "    </tr>\n",
       "    <tr>\n",
       "      <th>...</th>\n",
       "      <td>...</td>\n",
       "      <td>...</td>\n",
       "      <td>...</td>\n",
       "      <td>...</td>\n",
       "      <td>...</td>\n",
       "    </tr>\n",
       "    <tr>\n",
       "      <th>Batman</th>\n",
       "      <td>1989</td>\n",
       "      <td>Kit Hollerbach</td>\n",
       "      <td>actress</td>\n",
       "      <td>Becky</td>\n",
       "      <td>29.0</td>\n",
       "    </tr>\n",
       "    <tr>\n",
       "      <th>Batman</th>\n",
       "      <td>1989</td>\n",
       "      <td>Sharon Holm</td>\n",
       "      <td>actress</td>\n",
       "      <td>Mrs. Wayne</td>\n",
       "      <td>49.0</td>\n",
       "    </tr>\n",
       "    <tr>\n",
       "      <th>Batman</th>\n",
       "      <td>1989</td>\n",
       "      <td>Pam Rose</td>\n",
       "      <td>actress</td>\n",
       "      <td>Party Guest at Wayne Manor</td>\n",
       "      <td>NaN</td>\n",
       "    </tr>\n",
       "    <tr>\n",
       "      <th>Batman</th>\n",
       "      <td>1989</td>\n",
       "      <td>Liza Ross</td>\n",
       "      <td>actress</td>\n",
       "      <td>Tourist Mom</td>\n",
       "      <td>45.0</td>\n",
       "    </tr>\n",
       "    <tr>\n",
       "      <th>Batman</th>\n",
       "      <td>1989</td>\n",
       "      <td>Rachel Ryan</td>\n",
       "      <td>actress</td>\n",
       "      <td>Corpse</td>\n",
       "      <td>NaN</td>\n",
       "    </tr>\n",
       "  </tbody>\n",
       "</table>\n",
       "<p>68 rows × 5 columns</p>\n",
       "</div>"
      ],
      "text/plain": [
       "        year             name     type                   character     n\n",
       "title                                                                   \n",
       "Batman  1989        Del Baker    actor                 Napier Hood  31.0\n",
       "Batman  1989  Michael Balfour    actor                   Scientist  44.0\n",
       "Batman  1989       David Baxt    actor            Dr. Thomas Wayne  48.0\n",
       "Batman  1989    Paul Birchard    actor            Another Reporter  55.0\n",
       "Batman  1989       Hugo Blick    actor           Young Jack Napier  41.0\n",
       "...      ...              ...      ...                         ...   ...\n",
       "Batman  1989   Kit Hollerbach  actress                       Becky  29.0\n",
       "Batman  1989      Sharon Holm  actress                  Mrs. Wayne  49.0\n",
       "Batman  1989         Pam Rose  actress  Party Guest at Wayne Manor   NaN\n",
       "Batman  1989        Liza Ross  actress                 Tourist Mom  45.0\n",
       "Batman  1989      Rachel Ryan  actress                      Corpse   NaN\n",
       "\n",
       "[68 rows x 5 columns]"
      ]
     },
     "execution_count": 27,
     "metadata": {},
     "output_type": "execute_result"
    }
   ],
   "source": [
    "# Quitar indices, \n",
    "bat89.reset_index('year')"
   ]
  },
  {
   "cell_type": "code",
   "execution_count": 28,
   "metadata": {
    "colab": {
     "base_uri": "https://localhost:8080/"
    },
    "executionInfo": {
     "elapsed": 4,
     "status": "ok",
     "timestamp": 1676251669654,
     "user": {
      "displayName": "ALEJANDRO NATHANAEL MARTIN DEL CAMPO BARBA",
      "userId": "13017245119275679287"
     },
     "user_tz": 360
    },
    "id": "ShJWsHMFUkjk",
    "outputId": "2457c641-687c-4240-fe8a-4f36ff4fbc1d"
   },
   "outputs": [
    {
     "data": {
      "text/plain": [
       "title                                                       year  character                 \n",
       "12 Years a Slave                                            2013  Bass                          1\n",
       "A River Runs Through It                                     1992  Paul Maclean                  1\n",
       "Abby Singer                                                 2003  Himself                       1\n",
       "Across the Tracks                                           1990  Joe Maloney                   1\n",
       "Allied                                                      2016  Max Vatan                     1\n",
       "Babel                                                       2006  Richard                       1\n",
       "Being John Malkovich                                        1999  Himself                       1\n",
       "Burn After Reading                                          2008  Chad Feldheimer               1\n",
       "By the Sea                                                  2015  Roland                        1\n",
       "Confessions of a Dangerous Mind                             2002  Brad, Bachelor #1             1\n",
       "Cool World                                                  1992  Detective Frank Harris        1\n",
       "Cutting Class                                               1989  Dwight Ingalls                1\n",
       "Fight Club                                                  1999  Tyler Durden                  1\n",
       "Full Frontal                                                2002  Himself                       1\n",
       "Fury                                                        2014  Don 'Wardaddy' Collier        1\n",
       "Happy Feet Two                                              2011  Will the Krill                1\n",
       "Happy Together                                              1989  Brian                         1\n",
       "Hunk                                                        1987  Guy at Beach with Drink       1\n",
       "Inglourious Basterds                                        2009  Lt. Aldo Raine                1\n",
       "Interview with the Vampire: The Vampire Chronicles          1994  Louis                         1\n",
       "Johnny Suede                                                1991  Johnny Suede                  1\n",
       "Kalifornia                                                  1993  Early Grayce                  1\n",
       "Killing Them Softly                                         2012  Jackie                        1\n",
       "Legends of the Fall                                         1994  Tristan Ludlow                1\n",
       "Less Than Zero                                              1987  Partygoer                     1\n",
       "                                                                  Preppie Guy at Fight          1\n",
       "Meet Joe Black                                              1998  Joe Black                     1\n",
       "                                                                  Young Man in Coffee Shop      1\n",
       "Megamind                                                    2010  Metro Man                     1\n",
       "Moneyball                                                   2011  Billy Beane                   1\n",
       "Mr. & Mrs. Smith                                            2005  John Smith                    1\n",
       "No Man's Land                                               1987  Waiter                        1\n",
       "Ocean's Eleven                                              2001  Rusty Ryan                    1\n",
       "Ocean's Thirteen                                            2007  Rusty Ryan                    1\n",
       "Ocean's Twelve                                              2004  Rusty Ryan                    1\n",
       "Se7en                                                       1995  Mills                         1\n",
       "Seven Years in Tibet                                        1997  Heinrich Harrer               1\n",
       "Sinbad: Legend of the Seven Seas                            2003  Sinbad                        1\n",
       "Sleepers                                                    1996  Michael                       1\n",
       "Snatch                                                      2000  Mickey O'Neil                 1\n",
       "Spy Game                                                    2001  Tom Bishop                    1\n",
       "The Assassination of Jesse James by the Coward Robert Ford  2007  Jesse James                   1\n",
       "The Big Short                                               2015  Ben Rickert                   1\n",
       "The Counselor                                               2013  Westray                       1\n",
       "The Curious Case of Benjamin Button                         2008  Benjamin Button               1\n",
       "The Dark Side of the Sun                                    1988  Rick                          1\n",
       "The Devil's Own                                             1997  Francis Austin McGuire        1\n",
       "                                                                  Rory Devaney                  1\n",
       "The Favor                                                   1994  Elliott Fowler                1\n",
       "The Mexican                                                 2001  Jerry Welbach                 1\n",
       "The Tree of Life                                            2011  Mr. O'Brien                   1\n",
       "Thelma & Louise                                             1991  J.D.                          1\n",
       "Troy                                                        2004  Achilles                      1\n",
       "True Romance                                                1993  Floyd - Dick's Roommate       1\n",
       "Twelve Monkeys                                              1995  Jeffrey Goines                1\n",
       "War Machine                                                 2017  Gen. Stanley A. McChrystal    1\n",
       "World War Z                                                 2013  Gerry Lane                    1\n",
       "World War Z 2                                               2017  Gerry Lane                    1\n",
       "dtype: int64"
      ]
     },
     "execution_count": 28,
     "metadata": {},
     "output_type": "execute_result"
    }
   ],
   "source": [
    "# Groupby, agrupando por elementos\n",
    "e = elenco\n",
    "e = e[e.name == \"Brad Pitt\"]\n",
    "e.groupby(['title','year','character']).size()"
   ]
  },
  {
   "cell_type": "code",
   "execution_count": 29,
   "metadata": {
    "colab": {
     "base_uri": "https://localhost:8080/"
    },
    "executionInfo": {
     "elapsed": 144,
     "status": "ok",
     "timestamp": 1676251691563,
     "user": {
      "displayName": "ALEJANDRO NATHANAEL MARTIN DEL CAMPO BARBA",
      "userId": "13017245119275679287"
     },
     "user_tz": 360
    },
    "id": "wb68w-lHUkjk",
    "outputId": "9d2d69d2-267c-488a-b336-c3b67b49aca1"
   },
   "outputs": [
    {
     "data": {
      "text/plain": [
       "title                                                       year\n",
       "12 Years a Slave                                            2013    1\n",
       "A River Runs Through It                                     1992    1\n",
       "Abby Singer                                                 2003    1\n",
       "Across the Tracks                                           1990    1\n",
       "Allied                                                      2016    1\n",
       "Babel                                                       2006    1\n",
       "Being John Malkovich                                        1999    1\n",
       "Burn After Reading                                          2008    1\n",
       "By the Sea                                                  2015    1\n",
       "Confessions of a Dangerous Mind                             2002    1\n",
       "Cool World                                                  1992    1\n",
       "Cutting Class                                               1989    1\n",
       "Fight Club                                                  1999    1\n",
       "Full Frontal                                                2002    1\n",
       "Fury                                                        2014    1\n",
       "Happy Feet Two                                              2011    1\n",
       "Happy Together                                              1989    1\n",
       "Hunk                                                        1987    1\n",
       "Inglourious Basterds                                        2009    1\n",
       "Interview with the Vampire: The Vampire Chronicles          1994    1\n",
       "Johnny Suede                                                1991    1\n",
       "Kalifornia                                                  1993    1\n",
       "Killing Them Softly                                         2012    1\n",
       "Legends of the Fall                                         1994    1\n",
       "Less Than Zero                                              1987    2\n",
       "Meet Joe Black                                              1998    2\n",
       "Megamind                                                    2010    1\n",
       "Moneyball                                                   2011    1\n",
       "Mr. & Mrs. Smith                                            2005    1\n",
       "No Man's Land                                               1987    1\n",
       "Ocean's Eleven                                              2001    1\n",
       "Ocean's Thirteen                                            2007    1\n",
       "Ocean's Twelve                                              2004    1\n",
       "Se7en                                                       1995    1\n",
       "Seven Years in Tibet                                        1997    1\n",
       "Sinbad: Legend of the Seven Seas                            2003    1\n",
       "Sleepers                                                    1996    1\n",
       "Snatch                                                      2000    1\n",
       "Spy Game                                                    2001    1\n",
       "The Assassination of Jesse James by the Coward Robert Ford  2007    1\n",
       "The Big Short                                               2015    1\n",
       "The Counselor                                               2013    1\n",
       "The Curious Case of Benjamin Button                         2008    1\n",
       "The Dark Side of the Sun                                    1988    1\n",
       "The Devil's Own                                             1997    2\n",
       "The Favor                                                   1994    1\n",
       "The Mexican                                                 2001    1\n",
       "The Tree of Life                                            2011    1\n",
       "Thelma & Louise                                             1991    1\n",
       "Troy                                                        2004    1\n",
       "True Romance                                                1993    1\n",
       "Twelve Monkeys                                              1995    1\n",
       "War Machine                                                 2017    1\n",
       "World War Z                                                 2013    1\n",
       "World War Z 2                                               2017    1\n",
       "dtype: int64"
      ]
     },
     "execution_count": 29,
     "metadata": {},
     "output_type": "execute_result"
    }
   ],
   "source": [
    "e = elenco\n",
    "e = e[e.name == \"Brad Pitt\"]\n",
    "e.groupby(['title','year']).size()"
   ]
  },
  {
   "cell_type": "code",
   "execution_count": 30,
   "metadata": {
    "colab": {
     "base_uri": "https://localhost:8080/",
     "height": 296
    },
    "executionInfo": {
     "elapsed": 649,
     "status": "ok",
     "timestamp": 1676251699577,
     "user": {
      "displayName": "ALEJANDRO NATHANAEL MARTIN DEL CAMPO BARBA",
      "userId": "13017245119275679287"
     },
     "user_tz": 360
    },
    "id": "Wb5GaY4vUkjk",
    "outputId": "1337582f-329c-4513-d04e-772bc87a0efc"
   },
   "outputs": [
    {
     "data": {
      "text/plain": [
       "<AxesSubplot:xlabel='year'>"
      ]
     },
     "execution_count": 30,
     "metadata": {},
     "output_type": "execute_result"
    },
    {
     "data": {
      "image/png": "[encoded data removed]",
      "text/plain": [
       "<Figure size 640x480 with 1 Axes>"
      ]
     },
     "metadata": {},
     "output_type": "display_data"
    }
   ],
   "source": [
    "e = elenco\n",
    "e = e[e.name == \"Brad Pitt\"]\n",
    "e.groupby(['year']).size().plot()"
   ]
  },
  {
   "cell_type": "code",
   "execution_count": 31,
   "metadata": {
    "colab": {
     "base_uri": "https://localhost:8080/",
     "height": 312
    },
    "executionInfo": {
     "elapsed": 437,
     "status": "ok",
     "timestamp": 1676251734749,
     "user": {
      "displayName": "ALEJANDRO NATHANAEL MARTIN DEL CAMPO BARBA",
      "userId": "13017245119275679287"
     },
     "user_tz": 360
    },
    "id": "KaWjAeT-Ukjk",
    "outputId": "37f1e63d-43e1-4b86-b9f6-79883d957845"
   },
   "outputs": [
    {
     "data": {
      "text/plain": [
       "<AxesSubplot:xlabel='year'>"
      ]
     },
     "execution_count": 31,
     "metadata": {},
     "output_type": "execute_result"
    },
    {
     "data": {
      "image/png": "[encoded data removed]",
      "text/plain": [
       "<Figure size 640x480 with 1 Axes>"
      ]
     },
     "metadata": {},
     "output_type": "display_data"
    }
   ],
   "source": [
    "e = elenco\n",
    "e = e[e.name == \"Brad Pitt\"]\n",
    "e.groupby(['year']).size().plot(kind='bar')"
   ]
  },
  {
   "cell_type": "code",
   "execution_count": 32,
   "metadata": {
    "colab": {
     "base_uri": "https://localhost:8080/",
     "height": 312
    },
    "executionInfo": {
     "elapsed": 1672,
     "status": "ok",
     "timestamp": 1676251742247,
     "user": {
      "displayName": "ALEJANDRO NATHANAEL MARTIN DEL CAMPO BARBA",
      "userId": "13017245119275679287"
     },
     "user_tz": 360
    },
    "id": "he_1dx6dUkjk",
    "outputId": "5de2d5d9-a027-423d-d0c6-eed45c2d62d3"
   },
   "outputs": [
    {
     "data": {
      "text/plain": [
       "<AxesSubplot:xlabel='year'>"
      ]
     },
     "execution_count": 32,
     "metadata": {},
     "output_type": "execute_result"
    },
    {
     "data": {
      "image/png": "[encoded data removed]",
      "text/plain": [
       "<Figure size 640x480 with 1 Axes>"
      ]
     },
     "metadata": {},
     "output_type": "display_data"
    }
   ],
   "source": [
    "# Por decada\n",
    "e = elenco\n",
    "e = e[e.name == \"Brad Pitt\"]\n",
    "e.groupby(e.year // 10 * 10).size().plot(kind='bar')"
   ]
  },
  {
   "cell_type": "code",
   "execution_count": 33,
   "metadata": {
    "colab": {
     "base_uri": "https://localhost:8080/",
     "height": 206
    },
    "executionInfo": {
     "elapsed": 716,
     "status": "ok",
     "timestamp": 1676251801287,
     "user": {
      "displayName": "ALEJANDRO NATHANAEL MARTIN DEL CAMPO BARBA",
      "userId": "13017245119275679287"
     },
     "user_tz": 360
    },
    "id": "ovSfwsJNUkjl",
    "outputId": "c21b78d3-98e3-404c-fe73-84f6c946a542"
   },
   "outputs": [
    {
     "data": {
      "text/html": [
       "<div>\n",
       "<style scoped>\n",
       "    .dataframe tbody tr th:only-of-type {\n",
       "        vertical-align: middle;\n",
       "    }\n",
       "\n",
       "    .dataframe tbody tr th {\n",
       "        vertical-align: top;\n",
       "    }\n",
       "\n",
       "    .dataframe thead th {\n",
       "        text-align: right;\n",
       "    }\n",
       "</style>\n",
       "<table border=\"1\" class=\"dataframe\">\n",
       "  <thead>\n",
       "    <tr style=\"text-align: right;\">\n",
       "      <th></th>\n",
       "      <th>title</th>\n",
       "      <th>year</th>\n",
       "      <th>name</th>\n",
       "      <th>type</th>\n",
       "      <th>character</th>\n",
       "      <th>n</th>\n",
       "    </tr>\n",
       "  </thead>\n",
       "  <tbody>\n",
       "    <tr>\n",
       "      <th>7024</th>\n",
       "      <td>Platoon</td>\n",
       "      <td>1986</td>\n",
       "      <td>Basile Achara</td>\n",
       "      <td>actor</td>\n",
       "      <td>Flash</td>\n",
       "      <td>26.0</td>\n",
       "    </tr>\n",
       "    <tr>\n",
       "      <th>40654</th>\n",
       "      <td>East Side, West Side</td>\n",
       "      <td>1927</td>\n",
       "      <td>Frank Allworth</td>\n",
       "      <td>actor</td>\n",
       "      <td>Flash</td>\n",
       "      <td>14.0</td>\n",
       "    </tr>\n",
       "    <tr>\n",
       "      <th>45697</th>\n",
       "      <td>Atom Man vs. Superman</td>\n",
       "      <td>1950</td>\n",
       "      <td>Kirk Alyn</td>\n",
       "      <td>actor</td>\n",
       "      <td>Superman</td>\n",
       "      <td>1.0</td>\n",
       "    </tr>\n",
       "    <tr>\n",
       "      <th>45705</th>\n",
       "      <td>Corky of Gasoline Alley</td>\n",
       "      <td>1951</td>\n",
       "      <td>Kirk Alyn</td>\n",
       "      <td>actor</td>\n",
       "      <td>Superman</td>\n",
       "      <td>NaN</td>\n",
       "    </tr>\n",
       "    <tr>\n",
       "      <th>45727</th>\n",
       "      <td>Superman</td>\n",
       "      <td>1948</td>\n",
       "      <td>Kirk Alyn</td>\n",
       "      <td>actor</td>\n",
       "      <td>Superman</td>\n",
       "      <td>1.0</td>\n",
       "    </tr>\n",
       "  </tbody>\n",
       "</table>\n",
       "</div>"
      ],
      "text/plain": [
       "                         title  year            name   type character     n\n",
       "7024                   Platoon  1986   Basile Achara  actor     Flash  26.0\n",
       "40654     East Side, West Side  1927  Frank Allworth  actor     Flash  14.0\n",
       "45697    Atom Man vs. Superman  1950       Kirk Alyn  actor  Superman   1.0\n",
       "45705  Corky of Gasoline Alley  1951       Kirk Alyn  actor  Superman   NaN\n",
       "45727                 Superman  1948       Kirk Alyn  actor  Superman   1.0"
      ]
     },
     "execution_count": 33,
     "metadata": {},
     "output_type": "execute_result"
    }
   ],
   "source": [
    "# stack y unstack\n",
    "e = elenco\n",
    "e = e[(e.character == \"Superman\") | (e.character == 'Flash')]\n",
    "e.head()"
   ]
  },
  {
   "cell_type": "code",
   "execution_count": 34,
   "metadata": {
    "colab": {
     "base_uri": "https://localhost:8080/"
    },
    "executionInfo": {
     "elapsed": 168,
     "status": "ok",
     "timestamp": 1676251803863,
     "user": {
      "displayName": "ALEJANDRO NATHANAEL MARTIN DEL CAMPO BARBA",
      "userId": "13017245119275679287"
     },
     "user_tz": 360
    },
    "id": "ySCjIPtvUkjl",
    "outputId": "f7394ff5-1a09-48ba-940d-d2268b89713d"
   },
   "outputs": [
    {
     "data": {
      "text/plain": [
       "character  year\n",
       "Flash      1921    1\n",
       "           1923    1\n",
       "           1927    1\n",
       "           1928    3\n",
       "           1930    1\n",
       "                  ..\n",
       "Superman   2013    1\n",
       "           2014    2\n",
       "           2015    1\n",
       "           2016    4\n",
       "           2017    3\n",
       "Length: 71, dtype: int64"
      ]
     },
     "execution_count": 34,
     "metadata": {},
     "output_type": "execute_result"
    }
   ],
   "source": [
    "e = e.groupby(['character', 'year'])\n",
    "e.size()"
   ]
  },
  {
   "cell_type": "code",
   "execution_count": 35,
   "metadata": {
    "colab": {
     "base_uri": "https://localhost:8080/",
     "height": 238
    },
    "executionInfo": {
     "elapsed": 138,
     "status": "ok",
     "timestamp": 1676251815296,
     "user": {
      "displayName": "ALEJANDRO NATHANAEL MARTIN DEL CAMPO BARBA",
      "userId": "13017245119275679287"
     },
     "user_tz": 360
    },
    "id": "-WeuTinOUkjl",
    "outputId": "b1886b5c-2fec-48da-afb5-2d0151836a90"
   },
   "outputs": [
    {
     "data": {
      "text/html": [
       "<div>\n",
       "<style scoped>\n",
       "    .dataframe tbody tr th:only-of-type {\n",
       "        vertical-align: middle;\n",
       "    }\n",
       "\n",
       "    .dataframe tbody tr th {\n",
       "        vertical-align: top;\n",
       "    }\n",
       "\n",
       "    .dataframe thead th {\n",
       "        text-align: right;\n",
       "    }\n",
       "</style>\n",
       "<table border=\"1\" class=\"dataframe\">\n",
       "  <thead>\n",
       "    <tr style=\"text-align: right;\">\n",
       "      <th>character</th>\n",
       "      <th>Flash</th>\n",
       "      <th>Superman</th>\n",
       "    </tr>\n",
       "    <tr>\n",
       "      <th>year</th>\n",
       "      <th></th>\n",
       "      <th></th>\n",
       "    </tr>\n",
       "  </thead>\n",
       "  <tbody>\n",
       "    <tr>\n",
       "      <th>1921</th>\n",
       "      <td>1.0</td>\n",
       "      <td>NaN</td>\n",
       "    </tr>\n",
       "    <tr>\n",
       "      <th>1923</th>\n",
       "      <td>1.0</td>\n",
       "      <td>NaN</td>\n",
       "    </tr>\n",
       "    <tr>\n",
       "      <th>1927</th>\n",
       "      <td>1.0</td>\n",
       "      <td>NaN</td>\n",
       "    </tr>\n",
       "    <tr>\n",
       "      <th>1928</th>\n",
       "      <td>3.0</td>\n",
       "      <td>NaN</td>\n",
       "    </tr>\n",
       "    <tr>\n",
       "      <th>1930</th>\n",
       "      <td>1.0</td>\n",
       "      <td>NaN</td>\n",
       "    </tr>\n",
       "  </tbody>\n",
       "</table>\n",
       "</div>"
      ],
      "text/plain": [
       "character  Flash  Superman\n",
       "year                      \n",
       "1921         1.0       NaN\n",
       "1923         1.0       NaN\n",
       "1927         1.0       NaN\n",
       "1928         3.0       NaN\n",
       "1930         1.0       NaN"
      ]
     },
     "execution_count": 35,
     "metadata": {},
     "output_type": "execute_result"
    }
   ],
   "source": [
    "# Comparemos cada personaje en una columna\n",
    "e.size().unstack(0).head()"
   ]
  },
  {
   "cell_type": "code",
   "execution_count": 43,
   "metadata": {
    "colab": {
     "base_uri": "https://localhost:8080/",
     "height": 173
    },
    "executionInfo": {
     "elapsed": 165,
     "status": "ok",
     "timestamp": 1676251822042,
     "user": {
      "displayName": "ALEJANDRO NATHANAEL MARTIN DEL CAMPO BARBA",
      "userId": "13017245119275679287"
     },
     "user_tz": 360
    },
    "id": "4BLkDSG6Ukjl",
    "outputId": "afe0c5f0-b153-4a9a-f532-9960aee09f45"
   },
   "outputs": [
    {
     "data": {
      "text/html": [
       "<div>\n",
       "<style scoped>\n",
       "    .dataframe tbody tr th:only-of-type {\n",
       "        vertical-align: middle;\n",
       "    }\n",
       "\n",
       "    .dataframe tbody tr th {\n",
       "        vertical-align: top;\n",
       "    }\n",
       "\n",
       "    .dataframe thead th {\n",
       "        text-align: right;\n",
       "    }\n",
       "</style>\n",
       "<table border=\"1\" class=\"dataframe\">\n",
       "  <thead>\n",
       "    <tr style=\"text-align: right;\">\n",
       "      <th>year</th>\n",
       "      <th>1921</th>\n",
       "      <th>1923</th>\n",
       "      <th>1927</th>\n",
       "      <th>1928</th>\n",
       "      <th>1930</th>\n",
       "      <th>1931</th>\n",
       "      <th>1933</th>\n",
       "      <th>1935</th>\n",
       "      <th>1936</th>\n",
       "      <th>1940</th>\n",
       "      <th>...</th>\n",
       "      <th>2009</th>\n",
       "      <th>2010</th>\n",
       "      <th>2011</th>\n",
       "      <th>2012</th>\n",
       "      <th>2013</th>\n",
       "      <th>2014</th>\n",
       "      <th>2015</th>\n",
       "      <th>2016</th>\n",
       "      <th>2017</th>\n",
       "      <th>2018</th>\n",
       "    </tr>\n",
       "    <tr>\n",
       "      <th>character</th>\n",
       "      <th></th>\n",
       "      <th></th>\n",
       "      <th></th>\n",
       "      <th></th>\n",
       "      <th></th>\n",
       "      <th></th>\n",
       "      <th></th>\n",
       "      <th></th>\n",
       "      <th></th>\n",
       "      <th></th>\n",
       "      <th></th>\n",
       "      <th></th>\n",
       "      <th></th>\n",
       "      <th></th>\n",
       "      <th></th>\n",
       "      <th></th>\n",
       "      <th></th>\n",
       "      <th></th>\n",
       "      <th></th>\n",
       "      <th></th>\n",
       "      <th></th>\n",
       "    </tr>\n",
       "  </thead>\n",
       "  <tbody>\n",
       "    <tr>\n",
       "      <th>Flash</th>\n",
       "      <td>1.0</td>\n",
       "      <td>1.0</td>\n",
       "      <td>1.0</td>\n",
       "      <td>3.0</td>\n",
       "      <td>1.0</td>\n",
       "      <td>1.0</td>\n",
       "      <td>2.0</td>\n",
       "      <td>5.0</td>\n",
       "      <td>3.0</td>\n",
       "      <td>1.0</td>\n",
       "      <td>...</td>\n",
       "      <td>3.0</td>\n",
       "      <td>1.0</td>\n",
       "      <td>2.0</td>\n",
       "      <td>2.0</td>\n",
       "      <td>3.0</td>\n",
       "      <td>4.0</td>\n",
       "      <td>NaN</td>\n",
       "      <td>2.0</td>\n",
       "      <td>NaN</td>\n",
       "      <td>1.0</td>\n",
       "    </tr>\n",
       "    <tr>\n",
       "      <th>Superman</th>\n",
       "      <td>NaN</td>\n",
       "      <td>NaN</td>\n",
       "      <td>NaN</td>\n",
       "      <td>NaN</td>\n",
       "      <td>NaN</td>\n",
       "      <td>NaN</td>\n",
       "      <td>NaN</td>\n",
       "      <td>NaN</td>\n",
       "      <td>NaN</td>\n",
       "      <td>NaN</td>\n",
       "      <td>...</td>\n",
       "      <td>1.0</td>\n",
       "      <td>1.0</td>\n",
       "      <td>3.0</td>\n",
       "      <td>NaN</td>\n",
       "      <td>1.0</td>\n",
       "      <td>2.0</td>\n",
       "      <td>1.0</td>\n",
       "      <td>4.0</td>\n",
       "      <td>3.0</td>\n",
       "      <td>NaN</td>\n",
       "    </tr>\n",
       "  </tbody>\n",
       "</table>\n",
       "<p>2 rows × 58 columns</p>\n",
       "</div>"
      ],
      "text/plain": [
       "year       1921  1923  1927  1928  1930  1931  1933  1935  1936  1940  ...  \\\n",
       "character                                                              ...   \n",
       "Flash       1.0   1.0   1.0   3.0   1.0   1.0   2.0   5.0   3.0   1.0  ...   \n",
       "Superman    NaN   NaN   NaN   NaN   NaN   NaN   NaN   NaN   NaN   NaN  ...   \n",
       "\n",
       "year       2009  2010  2011  2012  2013  2014  2015  2016  2017  2018  \n",
       "character                                                              \n",
       "Flash       3.0   1.0   2.0   2.0   3.0   4.0   NaN   2.0   NaN   1.0  \n",
       "Superman    1.0   1.0   3.0   NaN   1.0   2.0   1.0   4.0   3.0   NaN  \n",
       "\n",
       "[2 rows x 58 columns]"
      ]
     },
     "execution_count": 43,
     "metadata": {},
     "output_type": "execute_result"
    }
   ],
   "source": [
    "e.size().unstack(1).head(50)"
   ]
  },
  {
   "cell_type": "code",
   "execution_count": 41,
   "metadata": {
    "colab": {
     "base_uri": "https://localhost:8080/",
     "height": 173
    },
    "executionInfo": {
     "elapsed": 200,
     "status": "ok",
     "timestamp": 1676251828765,
     "user": {
      "displayName": "ALEJANDRO NATHANAEL MARTIN DEL CAMPO BARBA",
      "userId": "13017245119275679287"
     },
     "user_tz": 360
    },
    "id": "hZf28P87Ukjl",
    "outputId": "47cd9e74-c0cc-4066-8217-15491027c4b4"
   },
   "outputs": [
    {
     "data": {
      "text/html": [
       "<div>\n",
       "<style scoped>\n",
       "    .dataframe tbody tr th:only-of-type {\n",
       "        vertical-align: middle;\n",
       "    }\n",
       "\n",
       "    .dataframe tbody tr th {\n",
       "        vertical-align: top;\n",
       "    }\n",
       "\n",
       "    .dataframe thead th {\n",
       "        text-align: right;\n",
       "    }\n",
       "</style>\n",
       "<table border=\"1\" class=\"dataframe\">\n",
       "  <thead>\n",
       "    <tr style=\"text-align: right;\">\n",
       "      <th>year</th>\n",
       "      <th>1921</th>\n",
       "      <th>1923</th>\n",
       "      <th>1927</th>\n",
       "      <th>1928</th>\n",
       "      <th>1930</th>\n",
       "      <th>1931</th>\n",
       "      <th>1933</th>\n",
       "      <th>1935</th>\n",
       "      <th>1936</th>\n",
       "      <th>1940</th>\n",
       "      <th>...</th>\n",
       "      <th>2009</th>\n",
       "      <th>2010</th>\n",
       "      <th>2011</th>\n",
       "      <th>2012</th>\n",
       "      <th>2013</th>\n",
       "      <th>2014</th>\n",
       "      <th>2015</th>\n",
       "      <th>2016</th>\n",
       "      <th>2017</th>\n",
       "      <th>2018</th>\n",
       "    </tr>\n",
       "    <tr>\n",
       "      <th>character</th>\n",
       "      <th></th>\n",
       "      <th></th>\n",
       "      <th></th>\n",
       "      <th></th>\n",
       "      <th></th>\n",
       "      <th></th>\n",
       "      <th></th>\n",
       "      <th></th>\n",
       "      <th></th>\n",
       "      <th></th>\n",
       "      <th></th>\n",
       "      <th></th>\n",
       "      <th></th>\n",
       "      <th></th>\n",
       "      <th></th>\n",
       "      <th></th>\n",
       "      <th></th>\n",
       "      <th></th>\n",
       "      <th></th>\n",
       "      <th></th>\n",
       "      <th></th>\n",
       "    </tr>\n",
       "  </thead>\n",
       "  <tbody>\n",
       "    <tr>\n",
       "      <th>Flash</th>\n",
       "      <td>1.0</td>\n",
       "      <td>1.0</td>\n",
       "      <td>1.0</td>\n",
       "      <td>3.0</td>\n",
       "      <td>1.0</td>\n",
       "      <td>1.0</td>\n",
       "      <td>2.0</td>\n",
       "      <td>5.0</td>\n",
       "      <td>3.0</td>\n",
       "      <td>1.0</td>\n",
       "      <td>...</td>\n",
       "      <td>3.0</td>\n",
       "      <td>1.0</td>\n",
       "      <td>2.0</td>\n",
       "      <td>2.0</td>\n",
       "      <td>3.0</td>\n",
       "      <td>4.0</td>\n",
       "      <td>NaN</td>\n",
       "      <td>2.0</td>\n",
       "      <td>NaN</td>\n",
       "      <td>1.0</td>\n",
       "    </tr>\n",
       "    <tr>\n",
       "      <th>Superman</th>\n",
       "      <td>NaN</td>\n",
       "      <td>NaN</td>\n",
       "      <td>NaN</td>\n",
       "      <td>NaN</td>\n",
       "      <td>NaN</td>\n",
       "      <td>NaN</td>\n",
       "      <td>NaN</td>\n",
       "      <td>NaN</td>\n",
       "      <td>NaN</td>\n",
       "      <td>NaN</td>\n",
       "      <td>...</td>\n",
       "      <td>1.0</td>\n",
       "      <td>1.0</td>\n",
       "      <td>3.0</td>\n",
       "      <td>NaN</td>\n",
       "      <td>1.0</td>\n",
       "      <td>2.0</td>\n",
       "      <td>1.0</td>\n",
       "      <td>4.0</td>\n",
       "      <td>3.0</td>\n",
       "      <td>NaN</td>\n",
       "    </tr>\n",
       "  </tbody>\n",
       "</table>\n",
       "<p>2 rows × 58 columns</p>\n",
       "</div>"
      ],
      "text/plain": [
       "year       1921  1923  1927  1928  1930  1931  1933  1935  1936  1940  ...  \\\n",
       "character                                                              ...   \n",
       "Flash       1.0   1.0   1.0   3.0   1.0   1.0   2.0   5.0   3.0   1.0  ...   \n",
       "Superman    NaN   NaN   NaN   NaN   NaN   NaN   NaN   NaN   NaN   NaN  ...   \n",
       "\n",
       "year       2009  2010  2011  2012  2013  2014  2015  2016  2017  2018  \n",
       "character                                                              \n",
       "Flash       3.0   1.0   2.0   2.0   3.0   4.0   NaN   2.0   NaN   1.0  \n",
       "Superman    1.0   1.0   3.0   NaN   1.0   2.0   1.0   4.0   3.0   NaN  \n",
       "\n",
       "[2 rows x 58 columns]"
      ]
     },
     "execution_count": 41,
     "metadata": {},
     "output_type": "execute_result"
    }
   ],
   "source": [
    "e.size().unstack().head()"
   ]
  },
  {
   "cell_type": "code",
   "execution_count": 44,
   "metadata": {
    "colab": {
     "base_uri": "https://localhost:8080/",
     "height": 238
    },
    "executionInfo": {
     "elapsed": 134,
     "status": "ok",
     "timestamp": 1676251832724,
     "user": {
      "displayName": "ALEJANDRO NATHANAEL MARTIN DEL CAMPO BARBA",
      "userId": "13017245119275679287"
     },
     "user_tz": 360
    },
    "id": "LfkKAHeSUkjl",
    "outputId": "d7d74d88-409a-49e9-ca9d-16fa84ce3c1f"
   },
   "outputs": [
    {
     "data": {
      "text/html": [
       "<div>\n",
       "<style scoped>\n",
       "    .dataframe tbody tr th:only-of-type {\n",
       "        vertical-align: middle;\n",
       "    }\n",
       "\n",
       "    .dataframe tbody tr th {\n",
       "        vertical-align: top;\n",
       "    }\n",
       "\n",
       "    .dataframe thead th {\n",
       "        text-align: right;\n",
       "    }\n",
       "</style>\n",
       "<table border=\"1\" class=\"dataframe\">\n",
       "  <thead>\n",
       "    <tr style=\"text-align: right;\">\n",
       "      <th>character</th>\n",
       "      <th>Flash</th>\n",
       "      <th>Superman</th>\n",
       "    </tr>\n",
       "    <tr>\n",
       "      <th>year</th>\n",
       "      <th></th>\n",
       "      <th></th>\n",
       "    </tr>\n",
       "  </thead>\n",
       "  <tbody>\n",
       "    <tr>\n",
       "      <th>1921</th>\n",
       "      <td>1.0</td>\n",
       "      <td>0.0</td>\n",
       "    </tr>\n",
       "    <tr>\n",
       "      <th>1923</th>\n",
       "      <td>1.0</td>\n",
       "      <td>0.0</td>\n",
       "    </tr>\n",
       "    <tr>\n",
       "      <th>1927</th>\n",
       "      <td>1.0</td>\n",
       "      <td>0.0</td>\n",
       "    </tr>\n",
       "    <tr>\n",
       "      <th>1928</th>\n",
       "      <td>3.0</td>\n",
       "      <td>0.0</td>\n",
       "    </tr>\n",
       "    <tr>\n",
       "      <th>1930</th>\n",
       "      <td>1.0</td>\n",
       "      <td>0.0</td>\n",
       "    </tr>\n",
       "  </tbody>\n",
       "</table>\n",
       "</div>"
      ],
      "text/plain": [
       "character  Flash  Superman\n",
       "year                      \n",
       "1921         1.0       0.0\n",
       "1923         1.0       0.0\n",
       "1927         1.0       0.0\n",
       "1928         3.0       0.0\n",
       "1930         1.0       0.0"
      ]
     },
     "execution_count": 44,
     "metadata": {},
     "output_type": "execute_result"
    }
   ],
   "source": [
    "e.size().unstack(0).fillna(0).head()"
   ]
  },
  {
   "cell_type": "code",
   "execution_count": 45,
   "metadata": {
    "colab": {
     "base_uri": "https://localhost:8080/",
     "height": 421
    },
    "executionInfo": {
     "elapsed": 1496,
     "status": "ok",
     "timestamp": 1676251836246,
     "user": {
      "displayName": "ALEJANDRO NATHANAEL MARTIN DEL CAMPO BARBA",
      "userId": "13017245119275679287"
     },
     "user_tz": 360
    },
    "id": "N-ImjRRDUkjl",
    "outputId": "3a5a50a3-2b31-4e97-9444-2e9fe04ae4b9"
   },
   "outputs": [
    {
     "data": {
      "text/plain": [
       "<AxesSubplot:xlabel='year'>"
      ]
     },
     "execution_count": 45,
     "metadata": {},
     "output_type": "execute_result"
    },
    {
     "data": {
      "image/png": "[encoded data removed]",
      "text/plain": [
       "<Figure size 1500x600 with 1 Axes>"
      ]
     },
     "metadata": {},
     "output_type": "display_data"
    }
   ],
   "source": [
    "e.size().unstack(0).fillna(0).plot(kind='bar',figsize=(15,6))"
   ]
  },
  {
   "cell_type": "code",
   "execution_count": 46,
   "metadata": {
    "colab": {
     "base_uri": "https://localhost:8080/",
     "height": 312
    },
    "executionInfo": {
     "elapsed": 1008,
     "status": "ok",
     "timestamp": 1676251851281,
     "user": {
      "displayName": "ALEJANDRO NATHANAEL MARTIN DEL CAMPO BARBA",
      "userId": "13017245119275679287"
     },
     "user_tz": 360
    },
    "id": "NHdTpKEAUkjm",
    "outputId": "be103992-b3a2-4e5b-947f-c2cd5084cfde"
   },
   "outputs": [
    {
     "data": {
      "text/plain": [
       "<AxesSubplot:xlabel='year'>"
      ]
     },
     "execution_count": 46,
     "metadata": {},
     "output_type": "execute_result"
    },
    {
     "data": {
      "image/png": "[encoded data removed]",
      "text/plain": [
       "<Figure size 640x480 with 1 Axes>"
      ]
     },
     "metadata": {},
     "output_type": "display_data"
    }
   ],
   "source": [
    "e = elenco\n",
    "\n",
    "e = e[(e.character == \"Superman\") | (e.character == 'Batman')]\n",
    "\n",
    "e = e.groupby(['character', e.year // 10 * 10])\n",
    "e.size().unstack(0).fillna(0).plot(kind='bar')\n",
    "#e.size().unstack(0).plot(kind='bar')"
   ]
  },
  {
   "cell_type": "code",
   "execution_count": 47,
   "metadata": {
    "colab": {
     "base_uri": "https://localhost:8080/",
     "height": 143
    },
    "executionInfo": {
     "elapsed": 462,
     "status": "ok",
     "timestamp": 1676251868543,
     "user": {
      "displayName": "ALEJANDRO NATHANAEL MARTIN DEL CAMPO BARBA",
      "userId": "13017245119275679287"
     },
     "user_tz": 360
    },
    "id": "wQJ_Cl3mUkjm",
    "outputId": "791706fc-5b15-4c30-c83f-bc508b987b15"
   },
   "outputs": [
    {
     "data": {
      "text/html": [
       "<div>\n",
       "<style scoped>\n",
       "    .dataframe tbody tr th:only-of-type {\n",
       "        vertical-align: middle;\n",
       "    }\n",
       "\n",
       "    .dataframe tbody tr th {\n",
       "        vertical-align: top;\n",
       "    }\n",
       "\n",
       "    .dataframe thead th {\n",
       "        text-align: right;\n",
       "    }\n",
       "</style>\n",
       "<table border=\"1\" class=\"dataframe\">\n",
       "  <thead>\n",
       "    <tr style=\"text-align: right;\">\n",
       "      <th>year</th>\n",
       "      <th>1930</th>\n",
       "      <th>1940</th>\n",
       "      <th>1950</th>\n",
       "      <th>1960</th>\n",
       "      <th>1970</th>\n",
       "      <th>1980</th>\n",
       "      <th>1990</th>\n",
       "      <th>2000</th>\n",
       "      <th>2010</th>\n",
       "    </tr>\n",
       "    <tr>\n",
       "      <th>character</th>\n",
       "      <th></th>\n",
       "      <th></th>\n",
       "      <th></th>\n",
       "      <th></th>\n",
       "      <th></th>\n",
       "      <th></th>\n",
       "      <th></th>\n",
       "      <th></th>\n",
       "      <th></th>\n",
       "    </tr>\n",
       "  </thead>\n",
       "  <tbody>\n",
       "    <tr>\n",
       "      <th>Batman</th>\n",
       "      <td>1.0</td>\n",
       "      <td>4.0</td>\n",
       "      <td>4.0</td>\n",
       "      <td>3.0</td>\n",
       "      <td>1.0</td>\n",
       "      <td>5.0</td>\n",
       "      <td>9.0</td>\n",
       "      <td>10.0</td>\n",
       "      <td>39.0</td>\n",
       "    </tr>\n",
       "    <tr>\n",
       "      <th>Superman</th>\n",
       "      <td>NaN</td>\n",
       "      <td>1.0</td>\n",
       "      <td>9.0</td>\n",
       "      <td>NaN</td>\n",
       "      <td>4.0</td>\n",
       "      <td>8.0</td>\n",
       "      <td>5.0</td>\n",
       "      <td>6.0</td>\n",
       "      <td>15.0</td>\n",
       "    </tr>\n",
       "  </tbody>\n",
       "</table>\n",
       "</div>"
      ],
      "text/plain": [
       "year       1930  1940  1950  1960  1970  1980  1990  2000  2010\n",
       "character                                                      \n",
       "Batman      1.0   4.0   4.0   3.0   1.0   5.0   9.0  10.0  39.0\n",
       "Superman    NaN   1.0   9.0   NaN   4.0   8.0   5.0   6.0  15.0"
      ]
     },
     "execution_count": 47,
     "metadata": {},
     "output_type": "execute_result"
    }
   ],
   "source": [
    "e = elenco\n",
    "e = e[(e.character == \"Superman\") | (e.character == 'Batman')]\n",
    "\n",
    "e = e.groupby(['character', e.year // 10 * 10])\n",
    "\n",
    "e = e.size().unstack(0)\n",
    "e\n",
    "\n",
    "e = e.stack(0)\n",
    "e\n",
    "e = e.unstack(0)\n",
    "e"
   ]
  },
  {
   "cell_type": "code",
   "execution_count": 48,
   "metadata": {
    "colab": {
     "base_uri": "https://localhost:8080/",
     "height": 282
    },
    "executionInfo": {
     "elapsed": 365,
     "status": "ok",
     "timestamp": 1676251891081,
     "user": {
      "displayName": "ALEJANDRO NATHANAEL MARTIN DEL CAMPO BARBA",
      "userId": "13017245119275679287"
     },
     "user_tz": 360
    },
    "id": "YO2olCMDUkjm",
    "outputId": "0c238fee-81b6-420d-98c8-cf5cd406a5e5"
   },
   "outputs": [
    {
     "data": {
      "text/plain": [
       "<AxesSubplot:ylabel='year'>"
      ]
     },
     "execution_count": 48,
     "metadata": {},
     "output_type": "execute_result"
    },
    {
     "data": {
      "image/png": "[encoded data removed]",
      "text/plain": [
       "<Figure size 640x480 with 1 Axes>"
      ]
     },
     "metadata": {},
     "output_type": "display_data"
    }
   ],
   "source": [
    "# stack y unstack\n",
    "\n",
    "e = elenco\n",
    "e = e[(e.character == \"Superman\") | (e.character == 'Batman')]\n",
    "e = e.groupby(['character',e.year //10 * 10]).size() \n",
    "e.unstack(0).fillna(0).plot(kind='barh')\n"
   ]
  },
  {
   "cell_type": "code",
   "execution_count": 49,
   "metadata": {
    "id": "3sKW3rdQUkjm"
   },
   "outputs": [],
   "source": [
    "# Graficar la diferencia entre el numero de papeles de actores de cada año..."
   ]
  },
  {
   "cell_type": "code",
   "execution_count": 50,
   "metadata": {
    "colab": {
     "base_uri": "https://localhost:8080/",
     "height": 296
    },
    "executionInfo": {
     "elapsed": 956,
     "status": "ok",
     "timestamp": 1676251900474,
     "user": {
      "displayName": "ALEJANDRO NATHANAEL MARTIN DEL CAMPO BARBA",
      "userId": "13017245119275679287"
     },
     "user_tz": 360
    },
    "id": "7hV7qzPCUkjm",
    "outputId": "e3b0922e-73d5-4710-a017-ae9c625a5aad"
   },
   "outputs": [
    {
     "data": {
      "text/plain": [
       "<AxesSubplot:xlabel='year'>"
      ]
     },
     "execution_count": 50,
     "metadata": {},
     "output_type": "execute_result"
    },
    {
     "data": {
      "image/png": "[encoded data removed]",
      "text/plain": [
       "<Figure size 640x480 with 1 Axes>"
      ]
     },
     "metadata": {},
     "output_type": "display_data"
    }
   ],
   "source": [
    "e = elenco\n",
    "e = e.groupby(['year','type']).size()\n",
    "e = e.unstack('type').fillna(0)\n",
    "(e.actor - e.actress).plot()"
   ]
  },
  {
   "cell_type": "code",
   "execution_count": 51,
   "metadata": {
    "colab": {
     "base_uri": "https://localhost:8080/",
     "height": 296
    },
    "executionInfo": {
     "elapsed": 884,
     "status": "ok",
     "timestamp": 1676251909815,
     "user": {
      "displayName": "ALEJANDRO NATHANAEL MARTIN DEL CAMPO BARBA",
      "userId": "13017245119275679287"
     },
     "user_tz": 360
    },
    "id": "rDUwmjabUkjn",
    "outputId": "e612f540-f3c1-4247-a7ce-65b2f8f6f025"
   },
   "outputs": [
    {
     "data": {
      "text/plain": [
       "<AxesSubplot:xlabel='year'>"
      ]
     },
     "execution_count": 51,
     "metadata": {},
     "output_type": "execute_result"
    },
    {
     "data": {
      "image/png": "[encoded data removed]",
      "text/plain": [
       "<Figure size 640x480 with 1 Axes>"
      ]
     },
     "metadata": {},
     "output_type": "display_data"
    }
   ],
   "source": [
    "# Graficar en numero de papeles de actores cada año y  para actrices por cada año\n",
    "\n",
    "e = elenco\n",
    "e = e.groupby(['year','type']).size()\n",
    "\n",
    "e = e.unstack('type')\n",
    "\n",
    "e.plot()"
   ]
  },
  {
   "cell_type": "code",
   "execution_count": 52,
   "metadata": {
    "colab": {
     "base_uri": "https://localhost:8080/",
     "height": 307
    },
    "executionInfo": {
     "elapsed": 1173,
     "status": "ok",
     "timestamp": 1676251918775,
     "user": {
      "displayName": "ALEJANDRO NATHANAEL MARTIN DEL CAMPO BARBA",
      "userId": "13017245119275679287"
     },
     "user_tz": 360
    },
    "id": "mT1NlRRdUkjn",
    "outputId": "9dee39d8-39eb-4b6b-ab72-76b7ac5472fb"
   },
   "outputs": [
    {
     "data": {
      "text/plain": [
       "<AxesSubplot:xlabel='year'>"
      ]
     },
     "execution_count": 52,
     "metadata": {},
     "output_type": "execute_result"
    },
    {
     "data": {
      "image/png": "[encoded data removed]",
      "text/plain": [
       "<Figure size 640x480 with 1 Axes>"
      ]
     },
     "metadata": {},
     "output_type": "display_data"
    }
   ],
   "source": [
    "# ahora con gráfico de area\n",
    "\n",
    "e = elenco\n",
    "e = e.groupby([e.year//10*10,'type']).size()\n",
    "e = e.unstack('type')\n",
    "e.plot(kind='area')"
   ]
  },
  {
   "cell_type": "code",
   "execution_count": 53,
   "metadata": {
    "colab": {
     "base_uri": "https://localhost:8080/",
     "height": 300
    },
    "executionInfo": {
     "elapsed": 751,
     "status": "ok",
     "timestamp": 1676251922797,
     "user": {
      "displayName": "ALEJANDRO NATHANAEL MARTIN DEL CAMPO BARBA",
      "userId": "13017245119275679287"
     },
     "user_tz": 360
    },
    "id": "GROZ3aBdUkjn",
    "outputId": "5d9dd31e-9622-4ca3-c0c5-584f7ad53146"
   },
   "outputs": [
    {
     "data": {
      "text/plain": [
       "<AxesSubplot:xlabel='year'>"
      ]
     },
     "execution_count": 53,
     "metadata": {},
     "output_type": "execute_result"
    },
    {
     "data": {
      "image/png": "[encoded data removed]",
      "text/plain": [
       "<Figure size 640x480 with 1 Axes>"
      ]
     },
     "metadata": {},
     "output_type": "display_data"
    }
   ],
   "source": [
    "# Graficar por porcentaje de actors\n",
    "\n",
    "e = elenco\n",
    "e = e.groupby(['year','type']).size()\n",
    "e = e.unstack('type')\n",
    "(e.actor / (e.actor+e.actress) * 100).plot(ylim=[0,100])"
   ]
  },
  {
   "cell_type": "code",
   "execution_count": 38,
   "metadata": {
    "colab": {
     "base_uri": "https://localhost:8080/",
     "height": 300
    },
    "executionInfo": {
     "elapsed": 702,
     "status": "ok",
     "timestamp": 1676251928590,
     "user": {
      "displayName": "ALEJANDRO NATHANAEL MARTIN DEL CAMPO BARBA",
      "userId": "13017245119275679287"
     },
     "user_tz": 360
    },
    "id": "AzB6ed-jUkjo",
    "outputId": "62bebc2f-06ab-418c-fb34-f51697557e10"
   },
   "outputs": [
    {
     "data": {
      "text/plain": [
       "<matplotlib.legend.Legend at 0x7f673d56d640>"
      ]
     },
     "execution_count": 38,
     "metadata": {},
     "output_type": "execute_result"
    },
    {
     "data": {
      "image/png": "[encoded data removed]",
      "text/plain": [
       "<Figure size 432x288 with 1 Axes>"
      ]
     },
     "metadata": {
      "needs_background": "light"
     },
     "output_type": "display_data"
    }
   ],
   "source": [
    "# Graficar el porcentaje de papeles que han sido \n",
    "# actores cada año en la historia de la filmografia\n",
    "# junto al mismo porcentaje pero de actrices\n",
    "\n",
    "e = elenco\n",
    "e = e.groupby(['year','type']).size()\n",
    "e = e.unstack('type')\n",
    "\n",
    "\n",
    "(e.actor / (e.actor+e.actress) * 100).plot(ylim=[0,100],label=\"actor %\")\n",
    "(e.actress / (e.actor+e.actress) * 100).plot(ylim=[0,100],label=\"actress %\")\n",
    "plt.legend()"
   ]
  },
  {
   "cell_type": "code",
   "execution_count": 54,
   "metadata": {
    "colab": {
     "base_uri": "https://localhost:8080/",
     "height": 296
    },
    "executionInfo": {
     "elapsed": 547,
     "status": "ok",
     "timestamp": 1676251934099,
     "user": {
      "displayName": "ALEJANDRO NATHANAEL MARTIN DEL CAMPO BARBA",
      "userId": "13017245119275679287"
     },
     "user_tz": 360
    },
    "id": "gzVbAL4OUkjo",
    "outputId": "d283f74e-07df-4ebd-dc19-2432f95d018d"
   },
   "outputs": [
    {
     "data": {
      "text/plain": [
       "<AxesSubplot:xlabel='year'>"
      ]
     },
     "execution_count": 54,
     "metadata": {},
     "output_type": "execute_result"
    },
    {
     "data": {
      "image/png": "[encoded data removed]",
      "text/plain": [
       "<Figure size 640x480 with 1 Axes>"
      ]
     },
     "metadata": {},
     "output_type": "display_data"
    }
   ],
   "source": [
    "# Graficar 3 lineas con clasificacion \"n\" de 1 al 3 donde cada linea represente el porcentaje de la clasificacion para los papeles de actores en cada año.\n",
    "\n",
    "e = elenco\n",
    "e = e[e.n <=3 ]\n",
    "\n",
    "e = e.groupby(['year','type','n']).size()\n",
    "\n",
    "\n",
    "e = e.unstack('type')   # Mover actor, actress a la dimension superior o de keys\n",
    "\n",
    "p = e.actor / (e.actor+e.actress) * 100   # Reducimos\n",
    "p = p.unstack('n')                        # Subimos la categoria 'n'\n",
    "p.plot()"
   ]
  },
  {
   "cell_type": "code",
   "execution_count": 55,
   "metadata": {
    "colab": {
     "base_uri": "https://localhost:8080/",
     "height": 427
    },
    "executionInfo": {
     "elapsed": 3348,
     "status": "ok",
     "timestamp": 1676251942687,
     "user": {
      "displayName": "ALEJANDRO NATHANAEL MARTIN DEL CAMPO BARBA",
      "userId": "13017245119275679287"
     },
     "user_tz": 360
    },
    "id": "tHlKOypvUkjr",
    "outputId": "8dd02116-7a10-42af-aaab-bccbeb195835"
   },
   "outputs": [
    {
     "data": {
      "text/plain": [
       "<AxesSubplot:title={'center':'Peliculas con mas actrices en el reparto'}, xlabel='title'>"
      ]
     },
     "execution_count": 55,
     "metadata": {},
     "output_type": "execute_result"
    },
    {
     "data": {
      "image/png": "[encoded data removed]",
      "text/plain": [
       "<Figure size 640x480 with 1 Axes>"
      ]
     },
     "metadata": {},
     "output_type": "display_data"
    }
   ],
   "source": [
    "# Encontrar las 5 peliculas de la historia tengan mas mujeres actrices que actores\n",
    "\n",
    "e = elenco\n",
    "e = e.groupby(['type','title']).size()\n",
    "e = e.unstack('type')\n",
    "e = (e.actress - e.actor).sort_values(ascending=False)\n",
    "e[:5].plot(kind='bar',title=\"Peliculas con mas actrices en el reparto\")\n"
   ]
  }
 ],
 "metadata": {
  "anaconda-cloud": {},
  "colab": {
   "provenance": []
  },
  "kernelspec": {
   "display_name": "Python 3 (ipykernel)",
   "language": "python",
   "name": "python3"
  },
  "language_info": {
   "codemirror_mode": {
    "name": "ipython",
    "version": 3
   },
   "file_extension": ".py",
   "mimetype": "text/x-python",
   "name": "python",
   "nbconvert_exporter": "python",
   "pygments_lexer": "ipython3",
   "version": "3.9.13"
  },
  "vscode": {
   "interpreter": {
    "hash": "4d1e9685241859556e110a9762602881454d4d48d6248d124be558de354edd4e"
   }
  }
 },
 "nbformat": 4,
 "nbformat_minor": 1
}
