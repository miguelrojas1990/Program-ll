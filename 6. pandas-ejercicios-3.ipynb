{
 "cells": [
  {
   "cell_type": "markdown",
   "metadata": {
    "id": "flaL52O7540g"
   },
   "source": [
    "## Pandas 3 "
   ]
  },
  {
   "cell_type": "markdown",
   "metadata": {},
   "source": [
    "- Operaciones con fechas\n",
    "- Combinar dataframes\n",
    "- Reacomodar datos "
   ]
  },
  {
   "cell_type": "code",
   "execution_count": 1,
   "metadata": {
    "executionInfo": {
     "elapsed": 6,
     "status": "ok",
     "timestamp": 1676262601118,
     "user": {
      "displayName": "ALEJANDRO NATHANAEL MARTIN DEL CAMPO BARBA",
      "userId": "13017245119275679287"
     },
     "user_tz": 360
    },
    "id": "MPdush_4540j"
   },
   "outputs": [],
   "source": [
    "from matplotlib import pyplot as plt\n",
    "import pandas as pd"
   ]
  },
  {
   "cell_type": "code",
   "execution_count": 2,
   "metadata": {
    "colab": {
     "base_uri": "https://localhost:8080/",
     "height": 206
    },
    "executionInfo": {
     "elapsed": 22076,
     "status": "ok",
     "timestamp": 1676262625158,
     "user": {
      "displayName": "ALEJANDRO NATHANAEL MARTIN DEL CAMPO BARBA",
      "userId": "13017245119275679287"
     },
     "user_tz": 360
    },
    "id": "fb7vJgx7540k",
    "outputId": "03ea74b4-1c4f-4434-84d7-21a4bdbddca4"
   },
   "outputs": [
    {
     "data": {
      "text/html": [
       "<div>\n",
       "<style scoped>\n",
       "    .dataframe tbody tr th:only-of-type {\n",
       "        vertical-align: middle;\n",
       "    }\n",
       "\n",
       "    .dataframe tbody tr th {\n",
       "        vertical-align: top;\n",
       "    }\n",
       "\n",
       "    .dataframe thead th {\n",
       "        text-align: right;\n",
       "    }\n",
       "</style>\n",
       "<table border=\"1\" class=\"dataframe\">\n",
       "  <thead>\n",
       "    <tr style=\"text-align: right;\">\n",
       "      <th></th>\n",
       "      <th>title</th>\n",
       "      <th>year</th>\n",
       "      <th>name</th>\n",
       "      <th>type</th>\n",
       "      <th>character</th>\n",
       "      <th>n</th>\n",
       "    </tr>\n",
       "  </thead>\n",
       "  <tbody>\n",
       "    <tr>\n",
       "      <th>0</th>\n",
       "      <td>Closet Monster</td>\n",
       "      <td>2015</td>\n",
       "      <td>Buffy #1</td>\n",
       "      <td>actor</td>\n",
       "      <td>Buffy 4</td>\n",
       "      <td>31.0</td>\n",
       "    </tr>\n",
       "    <tr>\n",
       "      <th>1</th>\n",
       "      <td>Suuri illusioni</td>\n",
       "      <td>1985</td>\n",
       "      <td>Homo $</td>\n",
       "      <td>actor</td>\n",
       "      <td>Guests</td>\n",
       "      <td>22.0</td>\n",
       "    </tr>\n",
       "    <tr>\n",
       "      <th>2</th>\n",
       "      <td>Battle of the Sexes</td>\n",
       "      <td>2017</td>\n",
       "      <td>$hutter</td>\n",
       "      <td>actor</td>\n",
       "      <td>Bobby Riggs Fan</td>\n",
       "      <td>10.0</td>\n",
       "    </tr>\n",
       "    <tr>\n",
       "      <th>3</th>\n",
       "      <td>Secret in Their Eyes</td>\n",
       "      <td>2015</td>\n",
       "      <td>$hutter</td>\n",
       "      <td>actor</td>\n",
       "      <td>2002 Dodger Fan</td>\n",
       "      <td>NaN</td>\n",
       "    </tr>\n",
       "    <tr>\n",
       "      <th>4</th>\n",
       "      <td>Steve Jobs</td>\n",
       "      <td>2015</td>\n",
       "      <td>$hutter</td>\n",
       "      <td>actor</td>\n",
       "      <td>1988 Opera House Patron</td>\n",
       "      <td>NaN</td>\n",
       "    </tr>\n",
       "  </tbody>\n",
       "</table>\n",
       "</div>"
      ],
      "text/plain": [
       "                  title  year      name   type                character     n\n",
       "0        Closet Monster  2015  Buffy #1  actor                  Buffy 4  31.0\n",
       "1       Suuri illusioni  1985    Homo $  actor                   Guests  22.0\n",
       "2   Battle of the Sexes  2017   $hutter  actor          Bobby Riggs Fan  10.0\n",
       "3  Secret in Their Eyes  2015   $hutter  actor          2002 Dodger Fan   NaN\n",
       "4            Steve Jobs  2015   $hutter  actor  1988 Opera House Patron   NaN"
      ]
     },
     "execution_count": 2,
     "metadata": {},
     "output_type": "execute_result"
    }
   ],
   "source": [
    "elenco = pd.read_csv('https://public-access-s3.s3.amazonaws.com/cast.csv', encoding='utf-8')\n",
    "elenco.head()"
   ]
  },
  {
   "cell_type": "code",
   "execution_count": 6,
   "metadata": {
    "colab": {
     "base_uri": "https://localhost:8080/",
     "height": 206
    },
    "executionInfo": {
     "elapsed": 3589,
     "status": "ok",
     "timestamp": 1676262631697,
     "user": {
      "displayName": "ALEJANDRO NATHANAEL MARTIN DEL CAMPO BARBA",
      "userId": "13017245119275679287"
     },
     "user_tz": 360
    },
    "id": "G_DBV1wZ540k",
    "outputId": "0c66f5c1-6516-4c19-e0ae-59939772c5a8"
   },
   "outputs": [
    {
     "data": {
      "text/html": [
       "<div>\n",
       "<style scoped>\n",
       "    .dataframe tbody tr th:only-of-type {\n",
       "        vertical-align: middle;\n",
       "    }\n",
       "\n",
       "    .dataframe tbody tr th {\n",
       "        vertical-align: top;\n",
       "    }\n",
       "\n",
       "    .dataframe thead th {\n",
       "        text-align: right;\n",
       "    }\n",
       "</style>\n",
       "<table border=\"1\" class=\"dataframe\">\n",
       "  <thead>\n",
       "    <tr style=\"text-align: right;\">\n",
       "      <th></th>\n",
       "      <th>title</th>\n",
       "      <th>year</th>\n",
       "      <th>country</th>\n",
       "      <th>date</th>\n",
       "    </tr>\n",
       "  </thead>\n",
       "  <tbody>\n",
       "    <tr>\n",
       "      <th>0</th>\n",
       "      <td>#73, Shaanthi Nivaasa</td>\n",
       "      <td>2007</td>\n",
       "      <td>India</td>\n",
       "      <td>2007-06-15</td>\n",
       "    </tr>\n",
       "    <tr>\n",
       "      <th>1</th>\n",
       "      <td>#Beings</td>\n",
       "      <td>2015</td>\n",
       "      <td>Romania</td>\n",
       "      <td>2015-01-29</td>\n",
       "    </tr>\n",
       "    <tr>\n",
       "      <th>2</th>\n",
       "      <td>#Ewankosau saranghaeyo</td>\n",
       "      <td>2015</td>\n",
       "      <td>Philippines</td>\n",
       "      <td>2015-01-21</td>\n",
       "    </tr>\n",
       "    <tr>\n",
       "      <th>3</th>\n",
       "      <td>#Horror</td>\n",
       "      <td>2015</td>\n",
       "      <td>USA</td>\n",
       "      <td>2015-11-20</td>\n",
       "    </tr>\n",
       "    <tr>\n",
       "      <th>4</th>\n",
       "      <td>#Horror</td>\n",
       "      <td>2015</td>\n",
       "      <td>UK</td>\n",
       "      <td>2016-05-16</td>\n",
       "    </tr>\n",
       "  </tbody>\n",
       "</table>\n",
       "</div>"
      ],
      "text/plain": [
       "                    title  year      country        date\n",
       "0   #73, Shaanthi Nivaasa  2007        India  2007-06-15\n",
       "1                 #Beings  2015      Romania  2015-01-29\n",
       "2  #Ewankosau saranghaeyo  2015  Philippines  2015-01-21\n",
       "3                 #Horror  2015          USA  2015-11-20\n",
       "4                 #Horror  2015           UK  2016-05-16"
      ]
     },
     "execution_count": 6,
     "metadata": {},
     "output_type": "execute_result"
    }
   ],
   "source": [
    "# Base de datos 2\n",
    "\n",
    "fechalanza = pd.read_csv('https://public-access-s3.s3.amazonaws.com/release_dates.csv', encoding='utf-8')\n",
    "fechalanza.head()"
   ]
  },
  {
   "cell_type": "code",
   "execution_count": 8,
   "metadata": {
    "colab": {
     "base_uri": "https://localhost:8080/",
     "height": 206
    },
    "executionInfo": {
     "elapsed": 3727,
     "status": "ok",
     "timestamp": 1676262658417,
     "user": {
      "displayName": "ALEJANDRO NATHANAEL MARTIN DEL CAMPO BARBA",
      "userId": "13017245119275679287"
     },
     "user_tz": 360
    },
    "id": "ymuuig6u540l",
    "outputId": "564b71a2-1de3-4046-e815-7cef2bf95511"
   },
   "outputs": [
    {
     "data": {
      "text/html": [
       "<div>\n",
       "<style scoped>\n",
       "    .dataframe tbody tr th:only-of-type {\n",
       "        vertical-align: middle;\n",
       "    }\n",
       "\n",
       "    .dataframe tbody tr th {\n",
       "        vertical-align: top;\n",
       "    }\n",
       "\n",
       "    .dataframe thead th {\n",
       "        text-align: right;\n",
       "    }\n",
       "</style>\n",
       "<table border=\"1\" class=\"dataframe\">\n",
       "  <thead>\n",
       "    <tr style=\"text-align: right;\">\n",
       "      <th></th>\n",
       "      <th>title</th>\n",
       "      <th>year</th>\n",
       "      <th>country</th>\n",
       "      <th>date</th>\n",
       "    </tr>\n",
       "  </thead>\n",
       "  <tbody>\n",
       "    <tr>\n",
       "      <th>0</th>\n",
       "      <td>#73, Shaanthi Nivaasa</td>\n",
       "      <td>2007</td>\n",
       "      <td>India</td>\n",
       "      <td>2007-06-15</td>\n",
       "    </tr>\n",
       "    <tr>\n",
       "      <th>1</th>\n",
       "      <td>#Beings</td>\n",
       "      <td>2015</td>\n",
       "      <td>Romania</td>\n",
       "      <td>2015-01-29</td>\n",
       "    </tr>\n",
       "    <tr>\n",
       "      <th>2</th>\n",
       "      <td>#Ewankosau saranghaeyo</td>\n",
       "      <td>2015</td>\n",
       "      <td>Philippines</td>\n",
       "      <td>2015-01-21</td>\n",
       "    </tr>\n",
       "    <tr>\n",
       "      <th>3</th>\n",
       "      <td>#Horror</td>\n",
       "      <td>2015</td>\n",
       "      <td>USA</td>\n",
       "      <td>2015-11-20</td>\n",
       "    </tr>\n",
       "    <tr>\n",
       "      <th>4</th>\n",
       "      <td>#Horror</td>\n",
       "      <td>2015</td>\n",
       "      <td>UK</td>\n",
       "      <td>2016-05-16</td>\n",
       "    </tr>\n",
       "  </tbody>\n",
       "</table>\n",
       "</div>"
      ],
      "text/plain": [
       "                    title  year      country       date\n",
       "0   #73, Shaanthi Nivaasa  2007        India 2007-06-15\n",
       "1                 #Beings  2015      Romania 2015-01-29\n",
       "2  #Ewankosau saranghaeyo  2015  Philippines 2015-01-21\n",
       "3                 #Horror  2015          USA 2015-11-20\n",
       "4                 #Horror  2015           UK 2016-05-16"
      ]
     },
     "execution_count": 8,
     "metadata": {},
     "output_type": "execute_result"
    }
   ],
   "source": [
    "#Cambiamos a un formato date time\n",
    "\n",
    "fechalanza = pd.read_csv('https://public-access-s3.s3.amazonaws.com/release_dates.csv' , parse_dates=['date'], infer_datetime_format=True)\n",
    "fechalanza.head()"
   ]
  },
  {
   "cell_type": "code",
   "execution_count": 9,
   "metadata": {
    "colab": {
     "base_uri": "https://localhost:8080/"
    },
    "executionInfo": {
     "elapsed": 304,
     "status": "ok",
     "timestamp": 1676262663076,
     "user": {
      "displayName": "ALEJANDRO NATHANAEL MARTIN DEL CAMPO BARBA",
      "userId": "13017245119275679287"
     },
     "user_tz": 360
    },
    "id": "2Vppt8_M540l",
    "outputId": "78e57fa7-068d-4132-f041-64f1dd6a3255"
   },
   "outputs": [
    {
     "data": {
      "text/plain": [
       "0         2007\n",
       "1         2015\n",
       "2         2015\n",
       "3         2015\n",
       "4         2016\n",
       "          ... \n",
       "443551    2005\n",
       "443552    2005\n",
       "443553    2005\n",
       "443554    2005\n",
       "443555    2005\n",
       "Name: date, Length: 443556, dtype: int64"
      ]
     },
     "execution_count": 9,
     "metadata": {},
     "output_type": "execute_result"
    }
   ],
   "source": [
    "# pandas \"dt\" = date time\n",
    "flz = fechalanza\n",
    "\n",
    "flz.date.dt.year"
   ]
  },
  {
   "cell_type": "code",
   "execution_count": 11,
   "metadata": {
    "colab": {
     "base_uri": "https://localhost:8080/",
     "height": 285
    },
    "executionInfo": {
     "elapsed": 275,
     "status": "ok",
     "timestamp": 1676262710707,
     "user": {
      "displayName": "ALEJANDRO NATHANAEL MARTIN DEL CAMPO BARBA",
      "userId": "13017245119275679287"
     },
     "user_tz": 360
    },
    "id": "8giTzYHa540m",
    "outputId": "a1baa37a-acef-4ef2-a485-05ddb10c9ec2"
   },
   "outputs": [
    {
     "data": {
      "text/plain": [
       "<AxesSubplot:>"
      ]
     },
     "execution_count": 11,
     "metadata": {},
     "output_type": "execute_result"
    },
    {
     "data": {
      "image/png": "[encoded data removed]",
      "text/plain": [
       "<Figure size 640x480 with 1 Axes>"
      ]
     },
     "metadata": {},
     "output_type": "display_data"
    }
   ],
   "source": [
    "# ¿En que meses se lanzan mas comunmente peliculas que contienen la palabra \"Christmas\"?, esperando sea Diciembre...\n",
    "\n",
    "\n",
    "flz = fechalanza \n",
    "\n",
    "\n",
    "flz = flz[(flz.title.str.contains('Christmas',case=False)) & (flz.country == 'USA')]\n",
    "\n",
    "flz.date.dt.month.value_counts().sort_index().plot(kind='bar')"
   ]
  },
  {
   "cell_type": "code",
   "execution_count": null,
   "metadata": {
    "collapsed": true,
    "id": "3-0NO1Vp540m"
   },
   "outputs": [],
   "source": [
    "# Exploremos la funcionalidad para unir dataframes con el metodo \"merge\""
   ]
  },
  {
   "cell_type": "code",
   "execution_count": 16,
   "metadata": {
    "colab": {
     "base_uri": "https://localhost:8080/",
     "height": 206
    },
    "executionInfo": {
     "elapsed": 390,
     "status": "ok",
     "timestamp": 1676262753732,
     "user": {
      "displayName": "ALEJANDRO NATHANAEL MARTIN DEL CAMPO BARBA",
      "userId": "13017245119275679287"
     },
     "user_tz": 360
    },
    "id": "NV61hLMh540n",
    "outputId": "fad0afe3-eabb-4ff0-9fef-939fd354c245"
   },
   "outputs": [
    {
     "data": {
      "text/html": [
       "\n",
       "  <div id=\"df-77ef5f95-b75a-4131-a04c-0a648835220e\">\n",
       "    <div class=\"colab-df-container\">\n",
       "      <div>\n",
       "<style scoped>\n",
       "    .dataframe tbody tr th:only-of-type {\n",
       "        vertical-align: middle;\n",
       "    }\n",
       "\n",
       "    .dataframe tbody tr th {\n",
       "        vertical-align: top;\n",
       "    }\n",
       "\n",
       "    .dataframe thead th {\n",
       "        text-align: right;\n",
       "    }\n",
       "</style>\n",
       "<table border=\"1\" class=\"dataframe\">\n",
       "  <thead>\n",
       "    <tr style=\"text-align: right;\">\n",
       "      <th></th>\n",
       "      <th>title</th>\n",
       "      <th>year</th>\n",
       "      <th>name</th>\n",
       "      <th>type</th>\n",
       "      <th>character</th>\n",
       "      <th>n</th>\n",
       "    </tr>\n",
       "  </thead>\n",
       "  <tbody>\n",
       "    <tr>\n",
       "      <th>1722096</th>\n",
       "      <td>12 Years a Slave</td>\n",
       "      <td>2013</td>\n",
       "      <td>Brad Pitt</td>\n",
       "      <td>actor</td>\n",
       "      <td>Bass</td>\n",
       "      <td>53.0</td>\n",
       "    </tr>\n",
       "    <tr>\n",
       "      <th>1722097</th>\n",
       "      <td>A River Runs Through It</td>\n",
       "      <td>1992</td>\n",
       "      <td>Brad Pitt</td>\n",
       "      <td>actor</td>\n",
       "      <td>Paul Maclean</td>\n",
       "      <td>2.0</td>\n",
       "    </tr>\n",
       "    <tr>\n",
       "      <th>1722098</th>\n",
       "      <td>Abby Singer</td>\n",
       "      <td>2003</td>\n",
       "      <td>Brad Pitt</td>\n",
       "      <td>actor</td>\n",
       "      <td>Himself</td>\n",
       "      <td>51.0</td>\n",
       "    </tr>\n",
       "    <tr>\n",
       "      <th>1722099</th>\n",
       "      <td>Across the Tracks</td>\n",
       "      <td>1990</td>\n",
       "      <td>Brad Pitt</td>\n",
       "      <td>actor</td>\n",
       "      <td>Joe Maloney</td>\n",
       "      <td>2.0</td>\n",
       "    </tr>\n",
       "    <tr>\n",
       "      <th>1722100</th>\n",
       "      <td>Allied</td>\n",
       "      <td>2016</td>\n",
       "      <td>Brad Pitt</td>\n",
       "      <td>actor</td>\n",
       "      <td>Max Vatan</td>\n",
       "      <td>1.0</td>\n",
       "    </tr>\n",
       "  </tbody>\n",
       "</table>\n",
       "</div>\n",
       "      <button class=\"colab-df-convert\" onclick=\"convertToInteractive('df-77ef5f95-b75a-4131-a04c-0a648835220e')\"\n",
       "              title=\"Convert this dataframe to an interactive table.\"\n",
       "              style=\"display:none;\">\n",
       "        \n",
       "  <svg xmlns=\"http://www.w3.org/2000/svg\" height=\"24px\"viewBox=\"0 0 24 24\"\n",
       "       width=\"24px\">\n",
       "    <path d=\"M0 0h24v24H0V0z\" fill=\"none\"/>\n",
       "    <path d=\"M18.56 5.44l.94 2.06.94-2.06 2.06-.94-2.06-.94-.94-2.06-.94 2.06-2.06.94zm-11 1L8.5 8.5l.94-2.06 2.06-.94-2.06-.94L8.5 2.5l-.94 2.06-2.06.94zm10 10l.94 2.06.94-2.06 2.06-.94-2.06-.94-.94-2.06-.94 2.06-2.06.94z\"/><path d=\"M17.41 7.96l-1.37-1.37c-.4-.4-.92-.59-1.43-.59-.52 0-1.04.2-1.43.59L10.3 9.45l-7.72 7.72c-.78.78-.78 2.05 0 2.83L4 21.41c.39.39.9.59 1.41.59.51 0 1.02-.2 1.41-.59l7.78-7.78 2.81-2.81c.8-.78.8-2.07 0-2.86zM5.41 20L4 18.59l7.72-7.72 1.47 1.35L5.41 20z\"/>\n",
       "  </svg>\n",
       "      </button>\n",
       "      \n",
       "  <style>\n",
       "    .colab-df-container {\n",
       "      display:flex;\n",
       "      flex-wrap:wrap;\n",
       "      gap: 12px;\n",
       "    }\n",
       "\n",
       "    .colab-df-convert {\n",
       "      background-color: #E8F0FE;\n",
       "      border: none;\n",
       "      border-radius: 50%;\n",
       "      cursor: pointer;\n",
       "      display: none;\n",
       "      fill: #1967D2;\n",
       "      height: 32px;\n",
       "      padding: 0 0 0 0;\n",
       "      width: 32px;\n",
       "    }\n",
       "\n",
       "    .colab-df-convert:hover {\n",
       "      background-color: #E2EBFA;\n",
       "      box-shadow: 0px 1px 2px rgba(60, 64, 67, 0.3), 0px 1px 3px 1px rgba(60, 64, 67, 0.15);\n",
       "      fill: #174EA6;\n",
       "    }\n",
       "\n",
       "    [theme=dark] .colab-df-convert {\n",
       "      background-color: #3B4455;\n",
       "      fill: #D2E3FC;\n",
       "    }\n",
       "\n",
       "    [theme=dark] .colab-df-convert:hover {\n",
       "      background-color: #434B5C;\n",
       "      box-shadow: 0px 1px 3px 1px rgba(0, 0, 0, 0.15);\n",
       "      filter: drop-shadow(0px 1px 2px rgba(0, 0, 0, 0.3));\n",
       "      fill: #FFFFFF;\n",
       "    }\n",
       "  </style>\n",
       "\n",
       "      <script>\n",
       "        const buttonEl =\n",
       "          document.querySelector('#df-77ef5f95-b75a-4131-a04c-0a648835220e button.colab-df-convert');\n",
       "        buttonEl.style.display =\n",
       "          google.colab.kernel.accessAllowed ? 'block' : 'none';\n",
       "\n",
       "        async function convertToInteractive(key) {\n",
       "          const element = document.querySelector('#df-77ef5f95-b75a-4131-a04c-0a648835220e');\n",
       "          const dataTable =\n",
       "            await google.colab.kernel.invokeFunction('convertToInteractive',\n",
       "                                                     [key], {});\n",
       "          if (!dataTable) return;\n",
       "\n",
       "          const docLinkHtml = 'Like what you see? Visit the ' +\n",
       "            '<a target=\"_blank\" href=https://colab.research.google.com/notebooks/data_table.ipynb>data table notebook</a>'\n",
       "            + ' to learn more about interactive tables.';\n",
       "          element.innerHTML = '';\n",
       "          dataTable['output_type'] = 'display_data';\n",
       "          await google.colab.output.renderOutput(dataTable, element);\n",
       "          const docLink = document.createElement('div');\n",
       "          docLink.innerHTML = docLinkHtml;\n",
       "          element.appendChild(docLink);\n",
       "        }\n",
       "      </script>\n",
       "    </div>\n",
       "  </div>\n",
       "  "
      ],
      "text/plain": [
       "                           title  year       name   type     character     n\n",
       "1722096         12 Years a Slave  2013  Brad Pitt  actor          Bass  53.0\n",
       "1722097  A River Runs Through It  1992  Brad Pitt  actor  Paul Maclean   2.0\n",
       "1722098              Abby Singer  2003  Brad Pitt  actor       Himself  51.0\n",
       "1722099        Across the Tracks  1990  Brad Pitt  actor   Joe Maloney   2.0\n",
       "1722100                   Allied  2016  Brad Pitt  actor     Max Vatan   1.0"
      ]
     },
     "execution_count": 16,
     "metadata": {},
     "output_type": "execute_result"
    }
   ],
   "source": [
    "e = elenco\n",
    "e = e[e.name == \"Brad Pitt\"]\n",
    "e.head()"
   ]
  },
  {
   "cell_type": "code",
   "execution_count": 12,
   "metadata": {
    "id": "shxsJLqD540n"
   },
   "outputs": [],
   "source": [
    "# Nos interesa conocer la fecha de lanzamiento de las peliculas en la que ah participado Denzel Washington del dataframe 2"
   ]
  },
  {
   "cell_type": "code",
   "execution_count": 14,
   "metadata": {
    "colab": {
     "base_uri": "https://localhost:8080/",
     "height": 206
    },
    "executionInfo": {
     "elapsed": 612,
     "status": "ok",
     "timestamp": 1676262800718,
     "user": {
      "displayName": "ALEJANDRO NATHANAEL MARTIN DEL CAMPO BARBA",
      "userId": "13017245119275679287"
     },
     "user_tz": 360
    },
    "id": "-Vz9uHvf540n",
    "outputId": "29fd0701-f851-4f3d-a40c-e15edbf5575f"
   },
   "outputs": [
    {
     "data": {
      "text/html": [
       "<div>\n",
       "<style scoped>\n",
       "    .dataframe tbody tr th:only-of-type {\n",
       "        vertical-align: middle;\n",
       "    }\n",
       "\n",
       "    .dataframe tbody tr th {\n",
       "        vertical-align: top;\n",
       "    }\n",
       "\n",
       "    .dataframe thead th {\n",
       "        text-align: right;\n",
       "    }\n",
       "</style>\n",
       "<table border=\"1\" class=\"dataframe\">\n",
       "  <thead>\n",
       "    <tr style=\"text-align: right;\">\n",
       "      <th></th>\n",
       "      <th>title</th>\n",
       "      <th>year</th>\n",
       "      <th>country</th>\n",
       "      <th>date</th>\n",
       "    </tr>\n",
       "  </thead>\n",
       "  <tbody>\n",
       "    <tr>\n",
       "      <th>0</th>\n",
       "      <td>#73, Shaanthi Nivaasa</td>\n",
       "      <td>2007</td>\n",
       "      <td>India</td>\n",
       "      <td>2007-06-15</td>\n",
       "    </tr>\n",
       "    <tr>\n",
       "      <th>1</th>\n",
       "      <td>#Beings</td>\n",
       "      <td>2015</td>\n",
       "      <td>Romania</td>\n",
       "      <td>2015-01-29</td>\n",
       "    </tr>\n",
       "    <tr>\n",
       "      <th>2</th>\n",
       "      <td>#Ewankosau saranghaeyo</td>\n",
       "      <td>2015</td>\n",
       "      <td>Philippines</td>\n",
       "      <td>2015-01-21</td>\n",
       "    </tr>\n",
       "    <tr>\n",
       "      <th>3</th>\n",
       "      <td>#Horror</td>\n",
       "      <td>2015</td>\n",
       "      <td>USA</td>\n",
       "      <td>2015-11-20</td>\n",
       "    </tr>\n",
       "    <tr>\n",
       "      <th>4</th>\n",
       "      <td>#Horror</td>\n",
       "      <td>2015</td>\n",
       "      <td>UK</td>\n",
       "      <td>2016-05-16</td>\n",
       "    </tr>\n",
       "  </tbody>\n",
       "</table>\n",
       "</div>"
      ],
      "text/plain": [
       "                    title  year      country        date\n",
       "0   #73, Shaanthi Nivaasa  2007        India  2007-06-15\n",
       "1                 #Beings  2015      Romania  2015-01-29\n",
       "2  #Ewankosau saranghaeyo  2015  Philippines  2015-01-21\n",
       "3                 #Horror  2015          USA  2015-11-20\n",
       "4                 #Horror  2015           UK  2016-05-16"
      ]
     },
     "execution_count": 14,
     "metadata": {},
     "output_type": "execute_result"
    }
   ],
   "source": [
    "flz = fecha_lanz\n",
    "flz.head()"
   ]
  },
  {
   "cell_type": "code",
   "execution_count": 25,
   "metadata": {
    "colab": {
     "base_uri": "https://localhost:8080/"
    },
    "executionInfo": {
     "elapsed": 255,
     "status": "ok",
     "timestamp": 1676262871382,
     "user": {
      "displayName": "ALEJANDRO NATHANAEL MARTIN DEL CAMPO BARBA",
      "userId": "13017245119275679287"
     },
     "user_tz": 360
    },
    "id": "dgel75vh540n",
    "outputId": "63fb9a66-52a1-4e0e-e0ac-a130c99d1129"
   },
   "outputs": [
    {
     "data": {
      "text/html": [
       "<div>\n",
       "<style scoped>\n",
       "    .dataframe tbody tr th:only-of-type {\n",
       "        vertical-align: middle;\n",
       "    }\n",
       "\n",
       "    .dataframe tbody tr th {\n",
       "        vertical-align: top;\n",
       "    }\n",
       "\n",
       "    .dataframe thead th {\n",
       "        text-align: right;\n",
       "    }\n",
       "</style>\n",
       "<table border=\"1\" class=\"dataframe\">\n",
       "  <thead>\n",
       "    <tr style=\"text-align: right;\">\n",
       "      <th></th>\n",
       "      <th>title</th>\n",
       "      <th>year</th>\n",
       "      <th>name</th>\n",
       "      <th>type</th>\n",
       "      <th>character</th>\n",
       "      <th>n</th>\n",
       "      <th>country</th>\n",
       "      <th>date</th>\n",
       "    </tr>\n",
       "  </thead>\n",
       "  <tbody>\n",
       "    <tr>\n",
       "      <th>0</th>\n",
       "      <td>12 Years a Slave</td>\n",
       "      <td>2013</td>\n",
       "      <td>Brad Pitt</td>\n",
       "      <td>actor</td>\n",
       "      <td>Bass</td>\n",
       "      <td>53.0</td>\n",
       "      <td>USA</td>\n",
       "      <td>2013-11-08</td>\n",
       "    </tr>\n",
       "    <tr>\n",
       "      <th>1</th>\n",
       "      <td>12 Years a Slave</td>\n",
       "      <td>2013</td>\n",
       "      <td>Brad Pitt</td>\n",
       "      <td>actor</td>\n",
       "      <td>Bass</td>\n",
       "      <td>53.0</td>\n",
       "      <td>Armenia</td>\n",
       "      <td>2013-12-12</td>\n",
       "    </tr>\n",
       "    <tr>\n",
       "      <th>2</th>\n",
       "      <td>12 Years a Slave</td>\n",
       "      <td>2013</td>\n",
       "      <td>Brad Pitt</td>\n",
       "      <td>actor</td>\n",
       "      <td>Bass</td>\n",
       "      <td>53.0</td>\n",
       "      <td>Greece</td>\n",
       "      <td>2013-12-12</td>\n",
       "    </tr>\n",
       "    <tr>\n",
       "      <th>3</th>\n",
       "      <td>12 Years a Slave</td>\n",
       "      <td>2013</td>\n",
       "      <td>Brad Pitt</td>\n",
       "      <td>actor</td>\n",
       "      <td>Bass</td>\n",
       "      <td>53.0</td>\n",
       "      <td>Russia</td>\n",
       "      <td>2013-12-12</td>\n",
       "    </tr>\n",
       "    <tr>\n",
       "      <th>4</th>\n",
       "      <td>12 Years a Slave</td>\n",
       "      <td>2013</td>\n",
       "      <td>Brad Pitt</td>\n",
       "      <td>actor</td>\n",
       "      <td>Bass</td>\n",
       "      <td>53.0</td>\n",
       "      <td>Ukraine</td>\n",
       "      <td>2013-12-12</td>\n",
       "    </tr>\n",
       "    <tr>\n",
       "      <th>...</th>\n",
       "      <td>...</td>\n",
       "      <td>...</td>\n",
       "      <td>...</td>\n",
       "      <td>...</td>\n",
       "      <td>...</td>\n",
       "      <td>...</td>\n",
       "      <td>...</td>\n",
       "      <td>...</td>\n",
       "    </tr>\n",
       "    <tr>\n",
       "      <th>1898</th>\n",
       "      <td>World War Z 2</td>\n",
       "      <td>2017</td>\n",
       "      <td>Brad Pitt</td>\n",
       "      <td>actor</td>\n",
       "      <td>Gerry Lane</td>\n",
       "      <td>NaN</td>\n",
       "      <td>Bulgaria</td>\n",
       "      <td>2017-06-09</td>\n",
       "    </tr>\n",
       "    <tr>\n",
       "      <th>1899</th>\n",
       "      <td>World War Z 2</td>\n",
       "      <td>2017</td>\n",
       "      <td>Brad Pitt</td>\n",
       "      <td>actor</td>\n",
       "      <td>Gerry Lane</td>\n",
       "      <td>NaN</td>\n",
       "      <td>Norway</td>\n",
       "      <td>2017-06-09</td>\n",
       "    </tr>\n",
       "    <tr>\n",
       "      <th>1900</th>\n",
       "      <td>World War Z 2</td>\n",
       "      <td>2017</td>\n",
       "      <td>Brad Pitt</td>\n",
       "      <td>actor</td>\n",
       "      <td>Gerry Lane</td>\n",
       "      <td>NaN</td>\n",
       "      <td>Sweden</td>\n",
       "      <td>2017-06-09</td>\n",
       "    </tr>\n",
       "    <tr>\n",
       "      <th>1901</th>\n",
       "      <td>World War Z 2</td>\n",
       "      <td>2017</td>\n",
       "      <td>Brad Pitt</td>\n",
       "      <td>actor</td>\n",
       "      <td>Gerry Lane</td>\n",
       "      <td>NaN</td>\n",
       "      <td>UK</td>\n",
       "      <td>2017-06-09</td>\n",
       "    </tr>\n",
       "    <tr>\n",
       "      <th>1902</th>\n",
       "      <td>World War Z 2</td>\n",
       "      <td>2017</td>\n",
       "      <td>Brad Pitt</td>\n",
       "      <td>actor</td>\n",
       "      <td>Gerry Lane</td>\n",
       "      <td>NaN</td>\n",
       "      <td>USA</td>\n",
       "      <td>2017-06-09</td>\n",
       "    </tr>\n",
       "  </tbody>\n",
       "</table>\n",
       "<p>1903 rows × 8 columns</p>\n",
       "</div>"
      ],
      "text/plain": [
       "                 title  year       name   type   character     n   country  \\\n",
       "0     12 Years a Slave  2013  Brad Pitt  actor        Bass  53.0       USA   \n",
       "1     12 Years a Slave  2013  Brad Pitt  actor        Bass  53.0   Armenia   \n",
       "2     12 Years a Slave  2013  Brad Pitt  actor        Bass  53.0    Greece   \n",
       "3     12 Years a Slave  2013  Brad Pitt  actor        Bass  53.0    Russia   \n",
       "4     12 Years a Slave  2013  Brad Pitt  actor        Bass  53.0   Ukraine   \n",
       "...                ...   ...        ...    ...         ...   ...       ...   \n",
       "1898     World War Z 2  2017  Brad Pitt  actor  Gerry Lane   NaN  Bulgaria   \n",
       "1899     World War Z 2  2017  Brad Pitt  actor  Gerry Lane   NaN    Norway   \n",
       "1900     World War Z 2  2017  Brad Pitt  actor  Gerry Lane   NaN    Sweden   \n",
       "1901     World War Z 2  2017  Brad Pitt  actor  Gerry Lane   NaN        UK   \n",
       "1902     World War Z 2  2017  Brad Pitt  actor  Gerry Lane   NaN       USA   \n",
       "\n",
       "            date  \n",
       "0     2013-11-08  \n",
       "1     2013-12-12  \n",
       "2     2013-12-12  \n",
       "3     2013-12-12  \n",
       "4     2013-12-12  \n",
       "...          ...  \n",
       "1898  2017-06-09  \n",
       "1899  2017-06-09  \n",
       "1900  2017-06-09  \n",
       "1901  2017-06-09  \n",
       "1902  2017-06-09  \n",
       "\n",
       "[1903 rows x 8 columns]"
      ]
     },
     "execution_count": 25,
     "metadata": {},
     "output_type": "execute_result"
    }
   ],
   "source": [
    "# Es realmente sencillo con pandas y su poderoso comando \"merge\"\n",
    "e = elenco\n",
    "\n",
    "e = e[e.name == \"Brad Pitt\"]\n",
    "pd.DataFrame(e)\n",
    "\n",
    "e = e.merge(fecha_lanz)\n",
    "pd.DataFrame(e)\n",
    "e"
   ]
  },
  {
   "cell_type": "markdown",
   "metadata": {
    "id": "bOiPNK_D540o"
   },
   "source": [
    "## Otro concepto: Pivot"
   ]
  },
  {
   "cell_type": "code",
   "execution_count": 22,
   "metadata": {
    "colab": {
     "base_uri": "https://localhost:8080/",
     "height": 143
    },
    "executionInfo": {
     "elapsed": 316,
     "status": "ok",
     "timestamp": 1676262976599,
     "user": {
      "displayName": "ALEJANDRO NATHANAEL MARTIN DEL CAMPO BARBA",
      "userId": "13017245119275679287"
     },
     "user_tz": 360
    },
    "id": "qPb6d0ic540o",
    "outputId": "70a21d81-9a0b-49d0-b75c-2a36bf8f6c1c"
   },
   "outputs": [
    {
     "data": {
      "text/html": [
       "<div>\n",
       "<style scoped>\n",
       "    .dataframe tbody tr th:only-of-type {\n",
       "        vertical-align: middle;\n",
       "    }\n",
       "\n",
       "    .dataframe tbody tr th {\n",
       "        vertical-align: top;\n",
       "    }\n",
       "\n",
       "    .dataframe thead th {\n",
       "        text-align: right;\n",
       "    }\n",
       "</style>\n",
       "<table border=\"1\" class=\"dataframe\">\n",
       "  <thead>\n",
       "    <tr style=\"text-align: right;\">\n",
       "      <th></th>\n",
       "      <th>title</th>\n",
       "      <th>year</th>\n",
       "      <th>country</th>\n",
       "      <th>date</th>\n",
       "    </tr>\n",
       "  </thead>\n",
       "  <tbody>\n",
       "    <tr>\n",
       "      <th>113532</th>\n",
       "      <td>Fight Club</td>\n",
       "      <td>1999</td>\n",
       "      <td>Canada</td>\n",
       "      <td>1999-10-15</td>\n",
       "    </tr>\n",
       "    <tr>\n",
       "      <th>113533</th>\n",
       "      <td>Fight Club</td>\n",
       "      <td>1999</td>\n",
       "      <td>USA</td>\n",
       "      <td>1999-10-15</td>\n",
       "    </tr>\n",
       "    <tr>\n",
       "      <th>113541</th>\n",
       "      <td>Fight Club</td>\n",
       "      <td>1999</td>\n",
       "      <td>Mexico</td>\n",
       "      <td>1999-11-05</td>\n",
       "    </tr>\n",
       "  </tbody>\n",
       "</table>\n",
       "</div>"
      ],
      "text/plain": [
       "             title  year country        date\n",
       "113532  Fight Club  1999  Canada  1999-10-15\n",
       "113533  Fight Club  1999     USA  1999-10-15\n",
       "113541  Fight Club  1999  Mexico  1999-11-05"
      ]
     },
     "execution_count": 22,
     "metadata": {},
     "output_type": "execute_result"
    }
   ],
   "source": [
    "# Pivot permite el reacomodo de los valores del dataframe, moviendo una columna como indice, otra como llave de datos y otra para los valores\n",
    "\n",
    "# Ejemplo fechas de lanzamiento de peliculas Harry Potter en Mexico, USA y Canada\n",
    "flz = fecha_lanz \n",
    "flz = flz[flz.title.str.startswith(\"Fight Club\")]\n",
    "\n",
    "flz = flz[(flz.country == \"Mexico\") | (flz.country == \"USA\") | (flz.country == \"Canada\")]\n",
    "flz "
   ]
  },
  {
   "cell_type": "code",
   "execution_count": 24,
   "metadata": {
    "colab": {
     "base_uri": "https://localhost:8080/",
     "height": 112
    },
    "executionInfo": {
     "elapsed": 5,
     "status": "ok",
     "timestamp": 1676263005845,
     "user": {
      "displayName": "ALEJANDRO NATHANAEL MARTIN DEL CAMPO BARBA",
      "userId": "13017245119275679287"
     },
     "user_tz": 360
    },
    "id": "x9I5evNk540o",
    "outputId": "c07de036-cdb7-48f4-fb77-4f65bb51a8de"
   },
   "outputs": [
    {
     "data": {
      "text/html": [
       "<div>\n",
       "<style scoped>\n",
       "    .dataframe tbody tr th:only-of-type {\n",
       "        vertical-align: middle;\n",
       "    }\n",
       "\n",
       "    .dataframe tbody tr th {\n",
       "        vertical-align: top;\n",
       "    }\n",
       "\n",
       "    .dataframe thead th {\n",
       "        text-align: right;\n",
       "    }\n",
       "</style>\n",
       "<table border=\"1\" class=\"dataframe\">\n",
       "  <thead>\n",
       "    <tr style=\"text-align: right;\">\n",
       "      <th>country</th>\n",
       "      <th>Canada</th>\n",
       "      <th>Mexico</th>\n",
       "      <th>USA</th>\n",
       "    </tr>\n",
       "    <tr>\n",
       "      <th>title</th>\n",
       "      <th></th>\n",
       "      <th></th>\n",
       "      <th></th>\n",
       "    </tr>\n",
       "  </thead>\n",
       "  <tbody>\n",
       "    <tr>\n",
       "      <th>Fight Club</th>\n",
       "      <td>1999-10-15</td>\n",
       "      <td>1999-11-05</td>\n",
       "      <td>1999-10-15</td>\n",
       "    </tr>\n",
       "  </tbody>\n",
       "</table>\n",
       "</div>"
      ],
      "text/plain": [
       "country         Canada      Mexico         USA\n",
       "title                                         \n",
       "Fight Club  1999-10-15  1999-11-05  1999-10-15"
      ]
     },
     "execution_count": 24,
     "metadata": {},
     "output_type": "execute_result"
    }
   ],
   "source": [
    "flz = fecha_lanz \n",
    "flz = flz[flz.title.str.startswith(\"Fight Club\")]\n",
    "flz = flz[(flz.country == \"Mexico\") | (flz.country == \"USA\") | (flz.country == \"Canada\")]\n",
    "\n",
    "\n",
    "flz = flz.pivot('title','country','date')\n",
    "flz"
   ]
  },
  {
   "cell_type": "markdown",
   "metadata": {
    "id": "GlWQuDJr540p"
   },
   "source": [
    "## Ejercicios\n"
   ]
  },
  {
   "cell_type": "code",
   "execution_count": 29,
   "metadata": {
    "colab": {
     "base_uri": "https://localhost:8080/",
     "height": 300
    },
    "executionInfo": {
     "elapsed": 439,
     "status": "ok",
     "timestamp": 1676263211264,
     "user": {
      "displayName": "ALEJANDRO NATHANAEL MARTIN DEL CAMPO BARBA",
      "userId": "13017245119275679287"
     },
     "user_tz": 360
    },
    "id": "XXkM0MKA540p",
    "outputId": "96962f87-e456-4b78-cee4-4228e917ac60"
   },
   "outputs": [
    {
     "data": {
      "text/plain": [
       "15"
      ]
     },
     "execution_count": 29,
     "metadata": {},
     "output_type": "execute_result"
    }
   ],
   "source": [
    "# Del periodo 2010 al presente en cuantas peliculas hA participado la actriz \"Nathalie Portman\"?\n",
    "e = elenco\n",
    "e = e[e.name == \"Natalie Portman\"]\n",
    "e = e[e.year >= 2010]\n",
    "len(e)"
   ]
  },
  {
   "cell_type": "code",
   "execution_count": 33,
   "metadata": {
    "colab": {
     "base_uri": "https://localhost:8080/",
     "height": 289
    },
    "executionInfo": {
     "elapsed": 1090,
     "status": "ok",
     "timestamp": 1676263250823,
     "user": {
      "displayName": "ALEJANDRO NATHANAEL MARTIN DEL CAMPO BARBA",
      "userId": "13017245119275679287"
     },
     "user_tz": 360
    },
    "id": "AI1d5HYA540p",
    "outputId": "572c5adb-ee48-4914-c024-dc3676271379"
   },
   "outputs": [
    {
     "data": {
      "text/html": [
       "<div>\n",
       "<style scoped>\n",
       "    .dataframe tbody tr th:only-of-type {\n",
       "        vertical-align: middle;\n",
       "    }\n",
       "\n",
       "    .dataframe tbody tr th {\n",
       "        vertical-align: top;\n",
       "    }\n",
       "\n",
       "    .dataframe thead th {\n",
       "        text-align: right;\n",
       "    }\n",
       "</style>\n",
       "<table border=\"1\" class=\"dataframe\">\n",
       "  <thead>\n",
       "    <tr style=\"text-align: right;\">\n",
       "      <th></th>\n",
       "      <th>title</th>\n",
       "      <th>year</th>\n",
       "      <th>name</th>\n",
       "      <th>type</th>\n",
       "      <th>character</th>\n",
       "      <th>n</th>\n",
       "      <th>country</th>\n",
       "      <th>date</th>\n",
       "    </tr>\n",
       "  </thead>\n",
       "  <tbody>\n",
       "    <tr>\n",
       "      <th>0</th>\n",
       "      <td>About Time</td>\n",
       "      <td>2013</td>\n",
       "      <td>Margot Robbie</td>\n",
       "      <td>actress</td>\n",
       "      <td>Charlotte</td>\n",
       "      <td>9.0</td>\n",
       "      <td>Mexico</td>\n",
       "      <td>2013-12-06</td>\n",
       "    </tr>\n",
       "    <tr>\n",
       "      <th>1</th>\n",
       "      <td>Focus (II)</td>\n",
       "      <td>2015</td>\n",
       "      <td>Margot Robbie</td>\n",
       "      <td>actress</td>\n",
       "      <td>Jess</td>\n",
       "      <td>2.0</td>\n",
       "      <td>Mexico</td>\n",
       "      <td>2015-03-05</td>\n",
       "    </tr>\n",
       "    <tr>\n",
       "      <th>2</th>\n",
       "      <td>Suicide Squad</td>\n",
       "      <td>2016</td>\n",
       "      <td>Margot Robbie</td>\n",
       "      <td>actress</td>\n",
       "      <td>Harley Quinn</td>\n",
       "      <td>4.0</td>\n",
       "      <td>Mexico</td>\n",
       "      <td>2016-08-04</td>\n",
       "    </tr>\n",
       "    <tr>\n",
       "      <th>3</th>\n",
       "      <td>The Big Short</td>\n",
       "      <td>2015</td>\n",
       "      <td>Margot Robbie</td>\n",
       "      <td>actress</td>\n",
       "      <td>Margot Robbie</td>\n",
       "      <td>NaN</td>\n",
       "      <td>Mexico</td>\n",
       "      <td>2016-01-08</td>\n",
       "    </tr>\n",
       "    <tr>\n",
       "      <th>4</th>\n",
       "      <td>The Legend of Tarzan</td>\n",
       "      <td>2016</td>\n",
       "      <td>Margot Robbie</td>\n",
       "      <td>actress</td>\n",
       "      <td>Jane Clayton</td>\n",
       "      <td>6.0</td>\n",
       "      <td>Mexico</td>\n",
       "      <td>2016-07-07</td>\n",
       "    </tr>\n",
       "    <tr>\n",
       "      <th>5</th>\n",
       "      <td>The Wolf of Wall Street</td>\n",
       "      <td>2013</td>\n",
       "      <td>Margot Robbie</td>\n",
       "      <td>actress</td>\n",
       "      <td>Naomi Lapaglia</td>\n",
       "      <td>3.0</td>\n",
       "      <td>Mexico</td>\n",
       "      <td>2014-01-10</td>\n",
       "    </tr>\n",
       "    <tr>\n",
       "      <th>6</th>\n",
       "      <td>Whiskey Tango Foxtrot</td>\n",
       "      <td>2016</td>\n",
       "      <td>Margot Robbie</td>\n",
       "      <td>actress</td>\n",
       "      <td>Tanya Vanderpoel</td>\n",
       "      <td>2.0</td>\n",
       "      <td>Mexico</td>\n",
       "      <td>2016-04-22</td>\n",
       "    </tr>\n",
       "  </tbody>\n",
       "</table>\n",
       "</div>"
      ],
      "text/plain": [
       "                     title  year           name     type         character  \\\n",
       "0               About Time  2013  Margot Robbie  actress         Charlotte   \n",
       "1               Focus (II)  2015  Margot Robbie  actress              Jess   \n",
       "2            Suicide Squad  2016  Margot Robbie  actress      Harley Quinn   \n",
       "3            The Big Short  2015  Margot Robbie  actress     Margot Robbie   \n",
       "4     The Legend of Tarzan  2016  Margot Robbie  actress      Jane Clayton   \n",
       "5  The Wolf of Wall Street  2013  Margot Robbie  actress    Naomi Lapaglia   \n",
       "6    Whiskey Tango Foxtrot  2016  Margot Robbie  actress  Tanya Vanderpoel   \n",
       "\n",
       "     n country        date  \n",
       "0  9.0  Mexico  2013-12-06  \n",
       "1  2.0  Mexico  2015-03-05  \n",
       "2  4.0  Mexico  2016-08-04  \n",
       "3  NaN  Mexico  2016-01-08  \n",
       "4  6.0  Mexico  2016-07-07  \n",
       "5  3.0  Mexico  2014-01-10  \n",
       "6  2.0  Mexico  2016-04-22  "
      ]
     },
     "execution_count": 33,
     "metadata": {},
     "output_type": "execute_result"
    }
   ],
   "source": [
    "# En que fechas fue lanzada cada pelicula de \"Margot Robbie\" dentro de un periodo de 1990 al presente en Mexico\n",
    "\n",
    "flz = fecha_lanz\n",
    "flz = flz[flz.country == 'Mexico']\n",
    "\n",
    "e = elenco\n",
    "e = e[e.name == 'Margot Robbie']\n",
    "e = e[(e.year > 1990)]\n",
    "\n",
    "e = e.merge(flz)\n",
    "e"
   ]
  },
  {
   "cell_type": "code",
   "execution_count": 49,
   "metadata": {
    "colab": {
     "base_uri": "https://localhost:8080/",
     "height": 330
    },
    "executionInfo": {
     "elapsed": 560,
     "status": "ok",
     "timestamp": 1676263271419,
     "user": {
      "displayName": "ALEJANDRO NATHANAEL MARTIN DEL CAMPO BARBA",
      "userId": "13017245119275679287"
     },
     "user_tz": 360
    },
    "id": "kUywUH_b540p",
    "outputId": "541baa4c-d057-4e55-b25c-0441e22c3a97"
   },
   "outputs": [
    {
     "data": {
      "text/html": [
       "<div>\n",
       "<style scoped>\n",
       "    .dataframe tbody tr th:only-of-type {\n",
       "        vertical-align: middle;\n",
       "    }\n",
       "\n",
       "    .dataframe tbody tr th {\n",
       "        vertical-align: top;\n",
       "    }\n",
       "\n",
       "    .dataframe thead th {\n",
       "        text-align: right;\n",
       "    }\n",
       "</style>\n",
       "<table border=\"1\" class=\"dataframe\">\n",
       "  <thead>\n",
       "    <tr style=\"text-align: right;\">\n",
       "      <th></th>\n",
       "      <th>title</th>\n",
       "      <th>year</th>\n",
       "      <th>name</th>\n",
       "      <th>type</th>\n",
       "      <th>character</th>\n",
       "      <th>n</th>\n",
       "      <th>country</th>\n",
       "      <th>date</th>\n",
       "    </tr>\n",
       "  </thead>\n",
       "  <tbody>\n",
       "    <tr>\n",
       "      <th>0</th>\n",
       "      <td>A League of Their Own</td>\n",
       "      <td>1992</td>\n",
       "      <td>Tom Hanks</td>\n",
       "      <td>actor</td>\n",
       "      <td>Jimmy Dugan</td>\n",
       "      <td>1.0</td>\n",
       "      <td>USA</td>\n",
       "      <td>1992-07-01</td>\n",
       "    </tr>\n",
       "    <tr>\n",
       "      <th>1</th>\n",
       "      <td>Angels &amp; Demons</td>\n",
       "      <td>2009</td>\n",
       "      <td>Tom Hanks</td>\n",
       "      <td>actor</td>\n",
       "      <td>Robert Langdon</td>\n",
       "      <td>1.0</td>\n",
       "      <td>USA</td>\n",
       "      <td>2009-05-15</td>\n",
       "    </tr>\n",
       "    <tr>\n",
       "      <th>2</th>\n",
       "      <td>Apollo 13</td>\n",
       "      <td>1995</td>\n",
       "      <td>Tom Hanks</td>\n",
       "      <td>actor</td>\n",
       "      <td>Jim Lovell</td>\n",
       "      <td>1.0</td>\n",
       "      <td>USA</td>\n",
       "      <td>1995-06-30</td>\n",
       "    </tr>\n",
       "    <tr>\n",
       "      <th>3</th>\n",
       "      <td>Bachelor Party</td>\n",
       "      <td>1984</td>\n",
       "      <td>Tom Hanks</td>\n",
       "      <td>actor</td>\n",
       "      <td>Rick Gassko</td>\n",
       "      <td>1.0</td>\n",
       "      <td>USA</td>\n",
       "      <td>1984-06-29</td>\n",
       "    </tr>\n",
       "    <tr>\n",
       "      <th>4</th>\n",
       "      <td>Big</td>\n",
       "      <td>1988</td>\n",
       "      <td>Tom Hanks</td>\n",
       "      <td>actor</td>\n",
       "      <td>Josh</td>\n",
       "      <td>1.0</td>\n",
       "      <td>USA</td>\n",
       "      <td>1988-06-03</td>\n",
       "    </tr>\n",
       "    <tr>\n",
       "      <th>...</th>\n",
       "      <td>...</td>\n",
       "      <td>...</td>\n",
       "      <td>...</td>\n",
       "      <td>...</td>\n",
       "      <td>...</td>\n",
       "      <td>...</td>\n",
       "      <td>...</td>\n",
       "      <td>...</td>\n",
       "    </tr>\n",
       "    <tr>\n",
       "      <th>57</th>\n",
       "      <td>Toy Story 3</td>\n",
       "      <td>2010</td>\n",
       "      <td>Tom Hanks</td>\n",
       "      <td>actor</td>\n",
       "      <td>Woody</td>\n",
       "      <td>1.0</td>\n",
       "      <td>USA</td>\n",
       "      <td>2010-06-18</td>\n",
       "    </tr>\n",
       "    <tr>\n",
       "      <th>58</th>\n",
       "      <td>Toy Story 4</td>\n",
       "      <td>2018</td>\n",
       "      <td>Tom Hanks</td>\n",
       "      <td>actor</td>\n",
       "      <td>Woody</td>\n",
       "      <td>NaN</td>\n",
       "      <td>USA</td>\n",
       "      <td>2018-06-15</td>\n",
       "    </tr>\n",
       "    <tr>\n",
       "      <th>59</th>\n",
       "      <td>Turner &amp; Hooch</td>\n",
       "      <td>1989</td>\n",
       "      <td>Tom Hanks</td>\n",
       "      <td>actor</td>\n",
       "      <td>Det. Scott Turner</td>\n",
       "      <td>1.0</td>\n",
       "      <td>USA</td>\n",
       "      <td>1989-07-28</td>\n",
       "    </tr>\n",
       "    <tr>\n",
       "      <th>60</th>\n",
       "      <td>Volunteers</td>\n",
       "      <td>1985</td>\n",
       "      <td>Tom Hanks</td>\n",
       "      <td>actor</td>\n",
       "      <td>Lawrence Whatley Bourne III</td>\n",
       "      <td>1.0</td>\n",
       "      <td>USA</td>\n",
       "      <td>1985-08-16</td>\n",
       "    </tr>\n",
       "    <tr>\n",
       "      <th>61</th>\n",
       "      <td>You've Got Mail</td>\n",
       "      <td>1998</td>\n",
       "      <td>Tom Hanks</td>\n",
       "      <td>actor</td>\n",
       "      <td>Joe Fox</td>\n",
       "      <td>1.0</td>\n",
       "      <td>USA</td>\n",
       "      <td>1998-12-18</td>\n",
       "    </tr>\n",
       "  </tbody>\n",
       "</table>\n",
       "<p>62 rows × 8 columns</p>\n",
       "</div>"
      ],
      "text/plain": [
       "                    title  year       name   type  \\\n",
       "0   A League of Their Own  1992  Tom Hanks  actor   \n",
       "1         Angels & Demons  2009  Tom Hanks  actor   \n",
       "2               Apollo 13  1995  Tom Hanks  actor   \n",
       "3          Bachelor Party  1984  Tom Hanks  actor   \n",
       "4                     Big  1988  Tom Hanks  actor   \n",
       "..                    ...   ...        ...    ...   \n",
       "57            Toy Story 3  2010  Tom Hanks  actor   \n",
       "58            Toy Story 4  2018  Tom Hanks  actor   \n",
       "59         Turner & Hooch  1989  Tom Hanks  actor   \n",
       "60             Volunteers  1985  Tom Hanks  actor   \n",
       "61        You've Got Mail  1998  Tom Hanks  actor   \n",
       "\n",
       "                      character    n country        date  \n",
       "0                   Jimmy Dugan  1.0     USA  1992-07-01  \n",
       "1                Robert Langdon  1.0     USA  2009-05-15  \n",
       "2                    Jim Lovell  1.0     USA  1995-06-30  \n",
       "3                   Rick Gassko  1.0     USA  1984-06-29  \n",
       "4                          Josh  1.0     USA  1988-06-03  \n",
       "..                          ...  ...     ...         ...  \n",
       "57                        Woody  1.0     USA  2010-06-18  \n",
       "58                        Woody  NaN     USA  2018-06-15  \n",
       "59            Det. Scott Turner  1.0     USA  1989-07-28  \n",
       "60  Lawrence Whatley Bourne III  1.0     USA  1985-08-16  \n",
       "61                      Joe Fox  1.0     USA  1998-12-18  \n",
       "\n",
       "[62 rows x 8 columns]"
      ]
     },
     "execution_count": 49,
     "metadata": {},
     "output_type": "execute_result"
    }
   ],
   "source": [
    "# En que dia de la semana se han lanzado en USA las peliculas de donde aparece Tom Hanks.. Incluir un grafico \n",
    "\n",
    "flz = fecha_lanz\n",
    "flz = flz[flz.country == 'USA']\n",
    "\n",
    "e = elenco\n",
    "e = e[e.name == 'Tom Hanks'] \n",
    "e\n",
    "\n",
    "wd = e.merge(flz)\n",
    "wd\n",
    "\n",
    "\n",
    "#wd = wd.rename({4:'Friday', 3:'Thursday', 2:'Wednesday'})\n",
    "#wd.plot(kind='bar')"
   ]
  },
  {
   "cell_type": "code",
   "execution_count": 50,
   "metadata": {
    "colab": {
     "base_uri": "https://localhost:8080/",
     "height": 282
    },
    "executionInfo": {
     "elapsed": 657,
     "status": "ok",
     "timestamp": 1676263281700,
     "user": {
      "displayName": "ALEJANDRO NATHANAEL MARTIN DEL CAMPO BARBA",
      "userId": "13017245119275679287"
     },
     "user_tz": 360
    },
    "id": "8PUFsffa540q",
    "outputId": "655302bf-7bb9-437c-c31f-4be78a18e2ae"
   },
   "outputs": [
    {
     "data": {
      "text/plain": [
       "<AxesSubplot:ylabel='title,year'>"
      ]
     },
     "execution_count": 50,
     "metadata": {},
     "output_type": "execute_result"
    },
    {
     "data": {
      "image/png": "[encoded data removed]",
      "text/plain": [
       "<Figure size 640x480 with 1 Axes>"
      ]
     },
     "metadata": {},
     "output_type": "display_data"
    }
   ],
   "source": [
    "# Que peliculas han sido lanzadas en la mayor cantidad de paises , incluir en un grafico las 5 mayores\n",
    "\n",
    "flz = fecha_lanz\n",
    "\n",
    "flz = flz.groupby(['title','year'])\n",
    "flz.size().sort_values(ascending=False)[:5].plot(kind='barh')\n"
   ]
  },
  {
   "cell_type": "code",
   "execution_count": 51,
   "metadata": {
    "colab": {
     "base_uri": "https://localhost:8080/"
    },
    "executionInfo": {
     "elapsed": 1617,
     "status": "ok",
     "timestamp": 1676263303498,
     "user": {
      "displayName": "ALEJANDRO NATHANAEL MARTIN DEL CAMPO BARBA",
      "userId": "13017245119275679287"
     },
     "user_tz": 360
    },
    "id": "BqxjNG-u540q",
    "outputId": "6c1c3145-9c16-43f5-be91-37d2d4e4b783"
   },
   "outputs": [
    {
     "data": {
      "text/plain": [
       "name_x             name_y             \n",
       "Leonardo DiCaprio  Joseph P. Reidy        4\n",
       "                   J.C. MacKenzie         3\n",
       "                   Nellie Sciutto         3\n",
       "                   Steve Witting          3\n",
       "                   Joe Sheridan           2\n",
       "                                         ..\n",
       "                   Gloria Stuart          1\n",
       "                   Golshifteh Farahani    1\n",
       "                   Grace (II) Dove        1\n",
       "                   Grant Swanby           1\n",
       "                   Zineb Oukach           1\n",
       "Length: 1064, dtype: int64"
      ]
     },
     "execution_count": 51,
     "metadata": {},
     "output_type": "execute_result"
    }
   ],
   "source": [
    "# Quien tiende a ser el actor si clasificado (n > 1) que mas a participado en peliculas donde el protagonista es Leonardo DiCaprio \n",
    "\n",
    "e = elenco\n",
    "hf = e[(e.name == 'Leonardo DiCaprio') & (e.n == 1)]\n",
    "er = e[(e.n > 1)]\n",
    "mt = hf.merge(er,on=['title','year'])\n",
    "mt.groupby(['name_x','name_y']).size().sort_values(ascending=False)"
   ]
  }
 ],
 "metadata": {
  "colab": {
   "provenance": []
  },
  "kernelspec": {
   "display_name": "Python 3 (ipykernel)",
   "language": "python",
   "name": "python3"
  },
  "language_info": {
   "codemirror_mode": {
    "name": "ipython",
    "version": 3
   },
   "file_extension": ".py",
   "mimetype": "text/x-python",
   "name": "python",
   "nbconvert_exporter": "python",
   "pygments_lexer": "ipython3",
   "version": "3.9.13"
  },
  "vscode": {
   "interpreter": {
    "hash": "4d1e9685241859556e110a9762602881454d4d48d6248d124be558de354edd4e"
   }
  }
 },
 "nbformat": 4,
 "nbformat_minor": 1
}
